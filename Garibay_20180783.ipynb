{
 "cells": [
  {
   "cell_type": "markdown",
   "metadata": {
    "id": "vIEyRXIE-z8z"
   },
   "source": [
    "# **Triángulo de Jones-Romer**\n",
    "\n",
    "En el 2010, Jones y Romer presentaron una segunda lista de regularidades empíricas sobre el crecimiento económico (una primera lista fue dada por Kaldor en 1961). Jones y Romer actualizaron el análisis con data de la post guerra (1960 en adelante).\n",
    "\n",
    "Por regularidades empíricas se entiende a las premisas que resultan de las observaciones de hechos sobre el crecimiento económico. Una de las regularidades presentada por Jones y Romer es: \n",
    "\n",
    "> \"Variation in modern growth rates. The variation in the rate of growth of per\n",
    "capita GDP increases with the distance from the technology frontier\" (Jones & Romer, 2010, p. 225).\n",
    "\n",
    "Es decir, aquellos países más desarrollados (los que se encuentran en la 'frontera tecnológica') tienen tasas de crecimiento similares y pequeñas. Mientras que, los países menos desarrollados (lejos de la frontera) tienen una mayor divergencia en sus tasas. \n"
   ]
  },
  {
   "cell_type": "markdown",
   "metadata": {},
   "source": [
    "Gráficamente esta dispersión crea un triángulo entre las tasas de crecimiento y PBI de los países.\n",
    "<img src=\"https://github.com/RominaGaribay/Trabajo-final/blob/main/image_1.png?raw=true\" width=\"400\">"
   ]
  },
  {
   "cell_type": "markdown",
   "metadata": {
    "id": "QLbk15mOFuRq"
   },
   "source": [
    "# 0.Objetivo\n",
    "**El objetivo de este trabajo es replicar graficamente esta premisa para cualquier año entre 1960 al 2020.** La información a utilizar será la data del Banco Mundial sobre:\n",
    "\n",
    "  1. Tasa de crecimiento del PBI por países\n",
    "  2. PBI per capital por país\n",
    "  3. Clasificación de ingreso por país\n",
    "\n",
    "Para poder replicar el triángulo se necesita ordenar esta data y ubicarla en los ejes del gráfico de dispersión."
   ]
  },
  {
   "cell_type": "code",
   "execution_count": 1,
   "metadata": {
    "id": "ONSaU744R0Kx"
   },
   "outputs": [],
   "source": [
    "import pandas as pd   \n",
    "import wbgapi as wb"
   ]
  },
  {
   "cell_type": "markdown",
   "metadata": {
    "id": "Bx95pV8SyuH4"
   },
   "source": [
    "# 1.Tasa de crecimiento de PBI\n",
    "\n",
    "> i) En el eje de las ordenadas se usa la información del promedio de la tasa de crecimiento per cápita de los países desde 1960 al 2020. Para ello se realizó un promedio simple de las tasas en cada país. La información fue recopilada en la columna Growth_prom.\n"
   ]
  },
  {
   "cell_type": "code",
   "execution_count": 2,
   "metadata": {
    "id": "hAE4QBXEywoE"
   },
   "outputs": [
    {
     "name": "stderr",
     "output_type": "stream",
     "text": [
      "C:\\Users\\acwe\\miniconda3\\lib\\site-packages\\wbgapi\\data.py:327: FutureWarning: The default dtype for empty Series will be 'object' instead of 'float64' in a future version. Specify a dtype explicitly to silence this warning.\n",
      "  dummy = pd.Series()    # empty series - never assigned actual values\n"
     ]
    }
   ],
   "source": [
    "#    1. Descargar data sobre tasas de crecimiento: ID:'NY.GDP.PCAP.KD.ZG' del df\n",
    "g_PIB=wb.data.DataFrame('NY.GDP.PCAP.KD.ZG',labels=True) \n",
    "#g_PIB.head(5)"
   ]
  },
  {
   "cell_type": "markdown",
   "metadata": {
    "id": "EeUt_pnkBsVv"
   },
   "source": [
    "### Promedio del crecimiento:"
   ]
  },
  {
   "cell_type": "code",
   "execution_count": 3,
   "metadata": {
    "colab": {
     "base_uri": "https://localhost:8080/"
    },
    "id": "kP9Kn7F97jL3",
    "outputId": "17ca7dbe-1e3a-49dc-de1d-9dec0ef5c888",
    "scrolled": true
   },
   "outputs": [],
   "source": [
    "#    2. Obtener promedio por filas (cada fila es un país)\n",
    "g_PIB['Growth_prom']=g_PIB.mean(axis=1,numeric_only=True)  \n",
    "#g_PIB.head(5)"
   ]
  },
  {
   "cell_type": "code",
   "execution_count": 4,
   "metadata": {
    "id": "toii65us-WM2"
   },
   "outputs": [
    {
     "data": {
      "text/html": [
       "<div>\n",
       "<style scoped>\n",
       "    .dataframe tbody tr th:only-of-type {\n",
       "        vertical-align: middle;\n",
       "    }\n",
       "\n",
       "    .dataframe tbody tr th {\n",
       "        vertical-align: top;\n",
       "    }\n",
       "\n",
       "    .dataframe thead th {\n",
       "        text-align: right;\n",
       "    }\n",
       "</style>\n",
       "<table border=\"1\" class=\"dataframe\">\n",
       "  <thead>\n",
       "    <tr style=\"text-align: right;\">\n",
       "      <th></th>\n",
       "      <th>economy</th>\n",
       "      <th>Country</th>\n",
       "      <th>Growth_prom</th>\n",
       "    </tr>\n",
       "  </thead>\n",
       "  <tbody>\n",
       "    <tr>\n",
       "      <th>0</th>\n",
       "      <td>ZWE</td>\n",
       "      <td>Zimbabwe</td>\n",
       "      <td>0.445556</td>\n",
       "    </tr>\n",
       "    <tr>\n",
       "      <th>1</th>\n",
       "      <td>ZMB</td>\n",
       "      <td>Zambia</td>\n",
       "      <td>0.173847</td>\n",
       "    </tr>\n",
       "    <tr>\n",
       "      <th>2</th>\n",
       "      <td>YEM</td>\n",
       "      <td>Yemen, Rep.</td>\n",
       "      <td>-1.341735</td>\n",
       "    </tr>\n",
       "    <tr>\n",
       "      <th>3</th>\n",
       "      <td>PSE</td>\n",
       "      <td>West Bank and Gaza</td>\n",
       "      <td>1.516616</td>\n",
       "    </tr>\n",
       "    <tr>\n",
       "      <th>4</th>\n",
       "      <td>VIR</td>\n",
       "      <td>Virgin Islands (U.S.)</td>\n",
       "      <td>-0.942663</td>\n",
       "    </tr>\n",
       "  </tbody>\n",
       "</table>\n",
       "</div>"
      ],
      "text/plain": [
       "  economy                Country  Growth_prom\n",
       "0     ZWE               Zimbabwe     0.445556\n",
       "1     ZMB                 Zambia     0.173847\n",
       "2     YEM            Yemen, Rep.    -1.341735\n",
       "3     PSE     West Bank and Gaza     1.516616\n",
       "4     VIR  Virgin Islands (U.S.)    -0.942663"
      ]
     },
     "execution_count": 4,
     "metadata": {},
     "output_type": "execute_result"
    }
   ],
   "source": [
    "#    3. Limpiar data y mantener solo la tasa promedio 'Growth_prom'\n",
    "g_PIB=g_PIB[['Country','Growth_prom']]\n",
    "g_PIB=g_PIB.reset_index()\n",
    "g_PIB.head(5)"
   ]
  },
  {
   "cell_type": "markdown",
   "metadata": {
    "id": "NnGPlaIryC3c"
   },
   "source": [
    "# 2.PIB per cápita\n",
    "> ii) Respecto al eje de las abscisas se coloca la información del PBI de todos los países como proporción al PBI de USA. Esto mide la distancia de los países de la 'frontera tecnológica' (que es USA). Por ejemplo, en el caso de Perú:\n",
    "`Ratio pbi per cápita Perú=  (Pbi Perú Per Cápita)/(PBI EEUU Per Cápita)`\n",
    "La misma operación se realizó con los demás países de la data. Los resultados se encuentra en la columna GDPcountry_USA.\n",
    "\n",
    "> El año de elección de la información del PBI es cualquier año de 1960 en adelante (dado que Jones y Romer realizan su investigación con datos de la post guerra).\n",
    "\n"
   ]
  },
  {
   "cell_type": "code",
   "execution_count": 5,
   "metadata": {
    "id": "nysLw0cpX6RX"
   },
   "outputs": [
    {
     "name": "stderr",
     "output_type": "stream",
     "text": [
      "C:\\Users\\acwe\\miniconda3\\lib\\site-packages\\wbgapi\\data.py:327: FutureWarning: The default dtype for empty Series will be 'object' instead of 'float64' in a future version. Specify a dtype explicitly to silence this warning.\n",
      "  dummy = pd.Series()    # empty series - never assigned actual values\n"
     ]
    }
   ],
   "source": [
    "#    1. Descargar data sobre PBI per cápita: ID:'NY.GDP.PCAP.CD' del df \n",
    "PIB_percap=wb.data.DataFrame('NY.GDP.PCAP.CD')  \n",
    "#PIB_percap.head(5)"
   ]
  },
  {
   "cell_type": "code",
   "execution_count": 6,
   "metadata": {},
   "outputs": [],
   "source": [
    "#    2. Cambiar nombre de columnas a solo el número de los años\n",
    "PIB_percap.columns=list(range(1960,2021))    \n",
    "#PIB_percap.head(5)"
   ]
  },
  {
   "cell_type": "markdown",
   "metadata": {
    "id": "Qe9YDFaaBvKy"
   },
   "source": [
    "### En base a USA:\n",
    "Elegir el año base (entre 1960 al 2020) de donde extraer el PIB de USA."
   ]
  },
  {
   "cell_type": "code",
   "execution_count": 7,
   "metadata": {
    "colab": {
     "base_uri": "https://localhost:8080/"
    },
    "id": "34WJ58tHLvsW",
    "outputId": "8f658f5b-280f-404c-b8b7-6fab7faa118b"
   },
   "outputs": [
    {
     "data": {
      "text/plain": [
       "2003"
      ]
     },
     "execution_count": 7,
     "metadata": {},
     "output_type": "execute_result"
    }
   ],
   "source": [
    "#    3. Elegir un año entre 1960 al 2000: AÑO BASE\n",
    "import random\n",
    "año=random.randint(1960,2020)     \n",
    "año"
   ]
  },
  {
   "cell_type": "code",
   "execution_count": 8,
   "metadata": {
    "scrolled": true
   },
   "outputs": [
    {
     "data": {
      "text/plain": [
       "1960     3007.123445\n",
       "1961     3066.562869\n",
       "1962     3243.843078\n",
       "1963     3374.515171\n",
       "1964     3573.941185\n",
       "            ...     \n",
       "2016    58021.400500\n",
       "2017    60109.655726\n",
       "2018    63064.418410\n",
       "2019    65279.529026\n",
       "2020    63593.443621\n",
       "Name: USA, Length: 61, dtype: float64"
      ]
     },
     "execution_count": 8,
     "metadata": {},
     "output_type": "execute_result"
    }
   ],
   "source": [
    "#    4. Localizar la observacion base 'PBI USA'\n",
    "USA=PIB_percap.loc['USA']     \n",
    "USA"
   ]
  },
  {
   "cell_type": "code",
   "execution_count": 9,
   "metadata": {
    "id": "y-jL-7zDMA5j"
   },
   "outputs": [
    {
     "data": {
      "text/plain": [
       "39496.4858751381"
      ]
     },
     "execution_count": 9,
     "metadata": {},
     "output_type": "execute_result"
    }
   ],
   "source": [
    "#    5. Localizar la observación del PIB de USA en el año 'base'\n",
    "USA=USA.loc[año]   \n",
    "USA"
   ]
  },
  {
   "cell_type": "code",
   "execution_count": 10,
   "metadata": {
    "id": "QxSyzFN_DfqD"
   },
   "outputs": [],
   "source": [
    "def pais_USA(pais):\n",
    "  '''\n",
    "  Define el ratio entre el PBI per capita de un país y USA (en un año específico 'x'):\n",
    "    input: PBI del país en un año específico x\n",
    "    output: PBI del país como fracción al PBI de USA para un año específico x\n",
    "  '''\n",
    "  ratioo=pais/USA\n",
    "  return ratioo"
   ]
  },
  {
   "cell_type": "code",
   "execution_count": 11,
   "metadata": {
    "colab": {
     "base_uri": "https://localhost:8080/"
    },
    "id": "Ok43a9PpEKVs",
    "outputId": "c01cb10f-28de-4580-da47-ddf1ccc5a718"
   },
   "outputs": [],
   "source": [
    "#    6. Aplicar la función 'pais_USA' al año elegido\n",
    "PIB_percap['GDPcountry_USA']=PIB_percap[año].apply(lambda x:pais_USA(x)) \n",
    "#PIB_percap.head(5)"
   ]
  },
  {
   "cell_type": "code",
   "execution_count": 12,
   "metadata": {
    "colab": {
     "base_uri": "https://localhost:8080/"
    },
    "id": "k3ubjQQmKjO_",
    "outputId": "ad5193de-8adf-4788-9245-e913197cc3a9"
   },
   "outputs": [],
   "source": [
    "#    7. Crear columna con el PBI de USA en el año elegido\n",
    "PIB_percap['USA_base']=USA  \n",
    "#PBI_percap"
   ]
  },
  {
   "cell_type": "code",
   "execution_count": 13,
   "metadata": {
    "id": "CsHN9HmJHucg"
   },
   "outputs": [],
   "source": [
    "#    8. Limpiar data y mantener el ratio de PBI/USA: 'GDPcountry_USA'\n",
    "PIB_percap=PIB_percap[[año, 'USA_base', 'GDPcountry_USA' ]] \n",
    "#PIB_percap.head(5)"
   ]
  },
  {
   "cell_type": "code",
   "execution_count": 14,
   "metadata": {
    "id": "WGqjSamjWWai"
   },
   "outputs": [
    {
     "data": {
      "text/html": [
       "<div>\n",
       "<style scoped>\n",
       "    .dataframe tbody tr th:only-of-type {\n",
       "        vertical-align: middle;\n",
       "    }\n",
       "\n",
       "    .dataframe tbody tr th {\n",
       "        vertical-align: top;\n",
       "    }\n",
       "\n",
       "    .dataframe thead th {\n",
       "        text-align: right;\n",
       "    }\n",
       "</style>\n",
       "<table border=\"1\" class=\"dataframe\">\n",
       "  <thead>\n",
       "    <tr style=\"text-align: right;\">\n",
       "      <th></th>\n",
       "      <th>economy</th>\n",
       "      <th>GDPcountry_2003</th>\n",
       "      <th>USA_base</th>\n",
       "      <th>GDPcountry_USA</th>\n",
       "    </tr>\n",
       "  </thead>\n",
       "  <tbody>\n",
       "    <tr>\n",
       "      <th>0</th>\n",
       "      <td>ABW</td>\n",
       "      <td>20833.976357</td>\n",
       "      <td>39496.485875</td>\n",
       "      <td>0.527489</td>\n",
       "    </tr>\n",
       "    <tr>\n",
       "      <th>1</th>\n",
       "      <td>AFE</td>\n",
       "      <td>819.743981</td>\n",
       "      <td>39496.485875</td>\n",
       "      <td>0.020755</td>\n",
       "    </tr>\n",
       "    <tr>\n",
       "      <th>2</th>\n",
       "      <td>AFG</td>\n",
       "      <td>190.683814</td>\n",
       "      <td>39496.485875</td>\n",
       "      <td>0.004828</td>\n",
       "    </tr>\n",
       "    <tr>\n",
       "      <th>3</th>\n",
       "      <td>AFW</td>\n",
       "      <td>706.955063</td>\n",
       "      <td>39496.485875</td>\n",
       "      <td>0.017899</td>\n",
       "    </tr>\n",
       "    <tr>\n",
       "      <th>4</th>\n",
       "      <td>AGO</td>\n",
       "      <td>982.961008</td>\n",
       "      <td>39496.485875</td>\n",
       "      <td>0.024887</td>\n",
       "    </tr>\n",
       "  </tbody>\n",
       "</table>\n",
       "</div>"
      ],
      "text/plain": [
       "  economy  GDPcountry_2003      USA_base  GDPcountry_USA\n",
       "0     ABW     20833.976357  39496.485875        0.527489\n",
       "1     AFE       819.743981  39496.485875        0.020755\n",
       "2     AFG       190.683814  39496.485875        0.004828\n",
       "3     AFW       706.955063  39496.485875        0.017899\n",
       "4     AGO       982.961008  39496.485875        0.024887"
      ]
     },
     "execution_count": 14,
     "metadata": {},
     "output_type": "execute_result"
    }
   ],
   "source": [
    "#    9. Ordenar índices y renombrar columnas\n",
    "PIB_percap.columns=['GDPcountry_'+str(año)]+list(PIB_percap.columns[1:])\n",
    "PIB_percap=PIB_percap.reset_index()\n",
    "PIB_percap.head(5)"
   ]
  },
  {
   "cell_type": "markdown",
   "metadata": {
    "id": "dVFjIyiRIL_p"
   },
   "source": [
    "# 3.BASE de datos final:\n",
    "Se recopila la información de países: promedio de crecimiento (1960-2020), ratio de PBI per capita para un año entre (1960-2020) y clasificación del país segun nivel de ingreso.\n",
    "Se usa la función 'merge'."
   ]
  },
  {
   "cell_type": "code",
   "execution_count": 15,
   "metadata": {
    "id": "UUimDP48INoQ"
   },
   "outputs": [],
   "source": [
    "#    1. Unir base de tasa de crecimiento y PBI per cápita\n",
    "PIB=pd.merge(g_PIB,PIB_percap,on='economy',how='inner')   \n",
    "#PIB.head(5)"
   ]
  },
  {
   "cell_type": "code",
   "execution_count": 16,
   "metadata": {},
   "outputs": [],
   "source": [
    "#    2. Descargar data con descripción del país según nivel de ingreso: 'income_classification' y region: 'Region'\n",
    "lst1=wb.economy.info().table()  \n",
    "lst2=wb.income.info().table() "
   ]
  },
  {
   "cell_type": "code",
   "execution_count": 17,
   "metadata": {},
   "outputs": [],
   "source": [
    "df1=pd.DataFrame(data=lst1,columns=[\"economy\", \"Country\", \"Region\", 'income_classification'])\n",
    "df2=pd.DataFrame(data=lst2,columns=[\"income_classification\", \"income_classif\" ])"
   ]
  },
  {
   "cell_type": "code",
   "execution_count": 18,
   "metadata": {},
   "outputs": [],
   "source": [
    "df=pd.merge(df1,df2,on='income_classification',how='inner')"
   ]
  },
  {
   "cell_type": "code",
   "execution_count": 19,
   "metadata": {
    "colab": {
     "base_uri": "https://localhost:8080/",
     "height": 424
    },
    "id": "B2lSxlrPPNKO",
    "outputId": "338d53c1-d200-4166-96be-225d20f50fb0"
   },
   "outputs": [],
   "source": [
    "#    3. Unir base del PIB y decripción del país\n",
    "PIB=pd.merge(PIB,df,on=['economy', 'Country'],how='inner')"
   ]
  },
  {
   "cell_type": "code",
   "execution_count": 20,
   "metadata": {},
   "outputs": [],
   "source": [
    "PIB=PIB.drop(PIB[PIB['Region']==''].index)"
   ]
  },
  {
   "cell_type": "markdown",
   "metadata": {},
   "source": [
    "### Base de datos final"
   ]
  },
  {
   "cell_type": "code",
   "execution_count": 21,
   "metadata": {},
   "outputs": [
    {
     "data": {
      "text/html": [
       "<div>\n",
       "<style scoped>\n",
       "    .dataframe tbody tr th:only-of-type {\n",
       "        vertical-align: middle;\n",
       "    }\n",
       "\n",
       "    .dataframe tbody tr th {\n",
       "        vertical-align: top;\n",
       "    }\n",
       "\n",
       "    .dataframe thead th {\n",
       "        text-align: right;\n",
       "    }\n",
       "</style>\n",
       "<table border=\"1\" class=\"dataframe\">\n",
       "  <thead>\n",
       "    <tr style=\"text-align: right;\">\n",
       "      <th></th>\n",
       "      <th>economy</th>\n",
       "      <th>Country</th>\n",
       "      <th>Growth_prom</th>\n",
       "      <th>GDPcountry_2003</th>\n",
       "      <th>USA_base</th>\n",
       "      <th>GDPcountry_USA</th>\n",
       "      <th>Region</th>\n",
       "      <th>income_classification</th>\n",
       "      <th>income_classif</th>\n",
       "    </tr>\n",
       "  </thead>\n",
       "  <tbody>\n",
       "    <tr>\n",
       "      <th>0</th>\n",
       "      <td>ZWE</td>\n",
       "      <td>Zimbabwe</td>\n",
       "      <td>0.445556</td>\n",
       "      <td>478.007604</td>\n",
       "      <td>39496.485875</td>\n",
       "      <td>0.012103</td>\n",
       "      <td>SSF</td>\n",
       "      <td>LMC</td>\n",
       "      <td>Lower middle income</td>\n",
       "    </tr>\n",
       "    <tr>\n",
       "      <th>1</th>\n",
       "      <td>ZMB</td>\n",
       "      <td>Zambia</td>\n",
       "      <td>0.173847</td>\n",
       "      <td>435.458199</td>\n",
       "      <td>39496.485875</td>\n",
       "      <td>0.011025</td>\n",
       "      <td>SSF</td>\n",
       "      <td>LMC</td>\n",
       "      <td>Lower middle income</td>\n",
       "    </tr>\n",
       "    <tr>\n",
       "      <th>2</th>\n",
       "      <td>YEM</td>\n",
       "      <td>Yemen, Rep.</td>\n",
       "      <td>-1.341735</td>\n",
       "      <td>620.382726</td>\n",
       "      <td>39496.485875</td>\n",
       "      <td>0.015707</td>\n",
       "      <td>MEA</td>\n",
       "      <td>LIC</td>\n",
       "      <td>Low income</td>\n",
       "    </tr>\n",
       "    <tr>\n",
       "      <th>3</th>\n",
       "      <td>PSE</td>\n",
       "      <td>West Bank and Gaza</td>\n",
       "      <td>1.516616</td>\n",
       "      <td>1257.698570</td>\n",
       "      <td>39496.485875</td>\n",
       "      <td>0.031843</td>\n",
       "      <td>MEA</td>\n",
       "      <td>LMC</td>\n",
       "      <td>Lower middle income</td>\n",
       "    </tr>\n",
       "    <tr>\n",
       "      <th>4</th>\n",
       "      <td>VIR</td>\n",
       "      <td>Virgin Islands (U.S.)</td>\n",
       "      <td>-0.942663</td>\n",
       "      <td>31731.256624</td>\n",
       "      <td>39496.485875</td>\n",
       "      <td>0.803394</td>\n",
       "      <td>LCN</td>\n",
       "      <td>HIC</td>\n",
       "      <td>High income</td>\n",
       "    </tr>\n",
       "    <tr>\n",
       "      <th>...</th>\n",
       "      <td>...</td>\n",
       "      <td>...</td>\n",
       "      <td>...</td>\n",
       "      <td>...</td>\n",
       "      <td>...</td>\n",
       "      <td>...</td>\n",
       "      <td>...</td>\n",
       "      <td>...</td>\n",
       "      <td>...</td>\n",
       "    </tr>\n",
       "    <tr>\n",
       "      <th>212</th>\n",
       "      <td>AND</td>\n",
       "      <td>Andorra</td>\n",
       "      <td>-0.000741</td>\n",
       "      <td>32272.845891</td>\n",
       "      <td>39496.485875</td>\n",
       "      <td>0.817107</td>\n",
       "      <td>ECS</td>\n",
       "      <td>HIC</td>\n",
       "      <td>High income</td>\n",
       "    </tr>\n",
       "    <tr>\n",
       "      <th>213</th>\n",
       "      <td>ASM</td>\n",
       "      <td>American Samoa</td>\n",
       "      <td>-0.309695</td>\n",
       "      <td>8807.462812</td>\n",
       "      <td>39496.485875</td>\n",
       "      <td>0.222994</td>\n",
       "      <td>EAS</td>\n",
       "      <td>UMC</td>\n",
       "      <td>Upper middle income</td>\n",
       "    </tr>\n",
       "    <tr>\n",
       "      <th>214</th>\n",
       "      <td>DZA</td>\n",
       "      <td>Algeria</td>\n",
       "      <td>1.195406</td>\n",
       "      <td>2103.381291</td>\n",
       "      <td>39496.485875</td>\n",
       "      <td>0.053255</td>\n",
       "      <td>MEA</td>\n",
       "      <td>LMC</td>\n",
       "      <td>Lower middle income</td>\n",
       "    </tr>\n",
       "    <tr>\n",
       "      <th>215</th>\n",
       "      <td>ALB</td>\n",
       "      <td>Albania</td>\n",
       "      <td>2.633886</td>\n",
       "      <td>1846.120121</td>\n",
       "      <td>39496.485875</td>\n",
       "      <td>0.046741</td>\n",
       "      <td>ECS</td>\n",
       "      <td>UMC</td>\n",
       "      <td>Upper middle income</td>\n",
       "    </tr>\n",
       "    <tr>\n",
       "      <th>216</th>\n",
       "      <td>AFG</td>\n",
       "      <td>Afghanistan</td>\n",
       "      <td>3.006658</td>\n",
       "      <td>190.683814</td>\n",
       "      <td>39496.485875</td>\n",
       "      <td>0.004828</td>\n",
       "      <td>SAS</td>\n",
       "      <td>LIC</td>\n",
       "      <td>Low income</td>\n",
       "    </tr>\n",
       "  </tbody>\n",
       "</table>\n",
       "<p>217 rows × 9 columns</p>\n",
       "</div>"
      ],
      "text/plain": [
       "    economy                Country  Growth_prom  GDPcountry_2003  \\\n",
       "0       ZWE               Zimbabwe     0.445556       478.007604   \n",
       "1       ZMB                 Zambia     0.173847       435.458199   \n",
       "2       YEM            Yemen, Rep.    -1.341735       620.382726   \n",
       "3       PSE     West Bank and Gaza     1.516616      1257.698570   \n",
       "4       VIR  Virgin Islands (U.S.)    -0.942663     31731.256624   \n",
       "..      ...                    ...          ...              ...   \n",
       "212     AND                Andorra    -0.000741     32272.845891   \n",
       "213     ASM         American Samoa    -0.309695      8807.462812   \n",
       "214     DZA                Algeria     1.195406      2103.381291   \n",
       "215     ALB                Albania     2.633886      1846.120121   \n",
       "216     AFG            Afghanistan     3.006658       190.683814   \n",
       "\n",
       "         USA_base  GDPcountry_USA Region income_classification  \\\n",
       "0    39496.485875        0.012103    SSF                   LMC   \n",
       "1    39496.485875        0.011025    SSF                   LMC   \n",
       "2    39496.485875        0.015707    MEA                   LIC   \n",
       "3    39496.485875        0.031843    MEA                   LMC   \n",
       "4    39496.485875        0.803394    LCN                   HIC   \n",
       "..            ...             ...    ...                   ...   \n",
       "212  39496.485875        0.817107    ECS                   HIC   \n",
       "213  39496.485875        0.222994    EAS                   UMC   \n",
       "214  39496.485875        0.053255    MEA                   LMC   \n",
       "215  39496.485875        0.046741    ECS                   UMC   \n",
       "216  39496.485875        0.004828    SAS                   LIC   \n",
       "\n",
       "          income_classif  \n",
       "0    Lower middle income  \n",
       "1    Lower middle income  \n",
       "2             Low income  \n",
       "3    Lower middle income  \n",
       "4            High income  \n",
       "..                   ...  \n",
       "212          High income  \n",
       "213  Upper middle income  \n",
       "214  Lower middle income  \n",
       "215  Upper middle income  \n",
       "216           Low income  \n",
       "\n",
       "[217 rows x 9 columns]"
      ]
     },
     "execution_count": 21,
     "metadata": {},
     "output_type": "execute_result"
    }
   ],
   "source": [
    "PIB #BASE DE DATOS FINAL"
   ]
  },
  {
   "cell_type": "markdown",
   "metadata": {
    "id": "7_mhFMFfE0py"
   },
   "source": [
    "# 4.Gráfico final\n",
    "Usando altair"
   ]
  },
  {
   "cell_type": "code",
   "execution_count": 22,
   "metadata": {
    "id": "Kq8VfN02EwNF"
   },
   "outputs": [],
   "source": [
    "import altair as alt"
   ]
  },
  {
   "cell_type": "code",
   "execution_count": 23,
   "metadata": {
    "id": "-6pMTWJjJZZH"
   },
   "outputs": [],
   "source": [
    "chart=alt.Chart(PIB).mark_circle().encode(alt.X('GDPcountry_USA:Q',\n",
    "                                                title='PIB per cápita como fracción de USA para el año '+ f'{año}'),\n",
    "                                          alt.Y('Growth_prom:Q',\n",
    "                                                title='Crecimiento (%) PBI 1960-2020'),\n",
    "                                          color=alt.condition(alt.datum.economy == 'USA',\n",
    "                                                              alt.value('black'),\n",
    "                                                              alt.Color('income_classif:N',\n",
    "                                                                        title='Grupos de ingreso',\n",
    "                                                                        scale=alt.Scale(scheme='rainbow'))),\n",
    "                                          tooltip=['Country',\n",
    "                                                   'GDPcountry_USA',\n",
    "                                                   'Growth_prom']).interactive().properties(title={'text':['TRIÁNGULO DE JONES ROMER'],\n",
    "                                                                                                   'subtitle':['año base '+ f'{año}']},\n",
    "                                                                                            width=800,height=500)                                          \n",
    "                                          "
   ]
  },
  {
   "cell_type": "markdown",
   "metadata": {},
   "source": [
    "### Gráfico final"
   ]
  },
  {
   "cell_type": "code",
   "execution_count": 24,
   "metadata": {
    "colab": {
     "base_uri": "https://localhost:8080/",
     "height": 614
    },
    "id": "9mpoIzoAlFtB",
    "outputId": "acc46433-087a-4ad5-d500-a4b8172bc998"
   },
   "outputs": [
    {
     "data": {
      "text/html": [
       "\n",
       "<div id=\"altair-viz-9018cc0cebc0428c972b5f1751dfd29b\"></div>\n",
       "<script type=\"text/javascript\">\n",
       "  var VEGA_DEBUG = (typeof VEGA_DEBUG == \"undefined\") ? {} : VEGA_DEBUG;\n",
       "  (function(spec, embedOpt){\n",
       "    let outputDiv = document.currentScript.previousElementSibling;\n",
       "    if (outputDiv.id !== \"altair-viz-9018cc0cebc0428c972b5f1751dfd29b\") {\n",
       "      outputDiv = document.getElementById(\"altair-viz-9018cc0cebc0428c972b5f1751dfd29b\");\n",
       "    }\n",
       "    const paths = {\n",
       "      \"vega\": \"https://cdn.jsdelivr.net/npm//vega@5?noext\",\n",
       "      \"vega-lib\": \"https://cdn.jsdelivr.net/npm//vega-lib?noext\",\n",
       "      \"vega-lite\": \"https://cdn.jsdelivr.net/npm//vega-lite@4.17.0?noext\",\n",
       "      \"vega-embed\": \"https://cdn.jsdelivr.net/npm//vega-embed@6?noext\",\n",
       "    };\n",
       "\n",
       "    function maybeLoadScript(lib, version) {\n",
       "      var key = `${lib.replace(\"-\", \"\")}_version`;\n",
       "      return (VEGA_DEBUG[key] == version) ?\n",
       "        Promise.resolve(paths[lib]) :\n",
       "        new Promise(function(resolve, reject) {\n",
       "          var s = document.createElement('script');\n",
       "          document.getElementsByTagName(\"head\")[0].appendChild(s);\n",
       "          s.async = true;\n",
       "          s.onload = () => {\n",
       "            VEGA_DEBUG[key] = version;\n",
       "            return resolve(paths[lib]);\n",
       "          };\n",
       "          s.onerror = () => reject(`Error loading script: ${paths[lib]}`);\n",
       "          s.src = paths[lib];\n",
       "        });\n",
       "    }\n",
       "\n",
       "    function showError(err) {\n",
       "      outputDiv.innerHTML = `<div class=\"error\" style=\"color:red;\">${err}</div>`;\n",
       "      throw err;\n",
       "    }\n",
       "\n",
       "    function displayChart(vegaEmbed) {\n",
       "      vegaEmbed(outputDiv, spec, embedOpt)\n",
       "        .catch(err => showError(`Javascript Error: ${err.message}<br>This usually means there's a typo in your chart specification. See the javascript console for the full traceback.`));\n",
       "    }\n",
       "\n",
       "    if(typeof define === \"function\" && define.amd) {\n",
       "      requirejs.config({paths});\n",
       "      require([\"vega-embed\"], displayChart, err => showError(`Error loading script: ${err.message}`));\n",
       "    } else {\n",
       "      maybeLoadScript(\"vega\", \"5\")\n",
       "        .then(() => maybeLoadScript(\"vega-lite\", \"4.17.0\"))\n",
       "        .then(() => maybeLoadScript(\"vega-embed\", \"6\"))\n",
       "        .catch(showError)\n",
       "        .then(() => displayChart(vegaEmbed));\n",
       "    }\n",
       "  })({\"config\": {\"view\": {\"continuousWidth\": 400, \"continuousHeight\": 300}, \"axis\": {\"titleColor\": \"grey\", \"titleFontSize\": 20}, \"legend\": {\"cornerRadius\": 20, \"fillColor\": \"#d1dce6\", \"orient\": \"top-right\", \"padding\": 20, \"strokeColor\": \"grey\"}, \"title\": {\"anchor\": \"middle\", \"color\": \"grey\", \"font\": \"Courier\", \"fontSize\": 33, \"orient\": \"top\", \"subtitleColor\": \"grey\", \"subtitleFont\": \"Courier\", \"subtitleFontSize\": 18}}, \"data\": {\"name\": \"data-70947c53b1fb19b53c7b7e6bb9fe40e7\"}, \"mark\": \"circle\", \"encoding\": {\"color\": {\"condition\": {\"value\": \"black\", \"test\": \"(datum.economy === 'USA')\"}, \"field\": \"income_classif\", \"scale\": {\"scheme\": \"rainbow\"}, \"title\": \"Grupos de ingreso\", \"type\": \"nominal\"}, \"tooltip\": [{\"field\": \"Country\", \"type\": \"nominal\"}, {\"field\": \"GDPcountry_USA\", \"type\": \"quantitative\"}, {\"field\": \"Growth_prom\", \"type\": \"quantitative\"}], \"x\": {\"field\": \"GDPcountry_USA\", \"title\": \"PIB per c\\u00e1pita como fracci\\u00f3n de USA para el a\\u00f1o 2003\", \"type\": \"quantitative\"}, \"y\": {\"field\": \"Growth_prom\", \"title\": \"Crecimiento (%) PBI 1960-2020\", \"type\": \"quantitative\"}}, \"height\": 500, \"selection\": {\"selector001\": {\"type\": \"interval\", \"bind\": \"scales\", \"encodings\": [\"x\", \"y\"]}}, \"title\": {\"text\": [\"TRI\\u00c1NGULO DE JONES ROMER\"], \"subtitle\": [\"a\\u00f1o base 2003\"]}, \"width\": 800, \"$schema\": \"https://vega.github.io/schema/vega-lite/v4.17.0.json\", \"datasets\": {\"data-70947c53b1fb19b53c7b7e6bb9fe40e7\": [{\"economy\": \"ZWE\", \"Country\": \"Zimbabwe\", \"Growth_prom\": 0.4455559663801823, \"GDPcountry_2003\": 478.007604434538, \"USA_base\": 39496.4858751381, \"GDPcountry_USA\": 0.012102535044400746, \"Region\": \"SSF\", \"income_classification\": \"LMC\", \"income_classif\": \"Lower middle income\"}, {\"economy\": \"ZMB\", \"Country\": \"Zambia\", \"Growth_prom\": 0.17384684695769267, \"GDPcountry_2003\": 435.458199377947, \"USA_base\": 39496.4858751381, \"GDPcountry_USA\": 0.011025239074549043, \"Region\": \"SSF\", \"income_classification\": \"LMC\", \"income_classif\": \"Lower middle income\"}, {\"economy\": \"YEM\", \"Country\": \"Yemen, Rep.\", \"Growth_prom\": -1.3417351811782312, \"GDPcountry_2003\": 620.382725994575, \"USA_base\": 39496.4858751381, \"GDPcountry_USA\": 0.015707289199242105, \"Region\": \"MEA\", \"income_classification\": \"LIC\", \"income_classif\": \"Low income\"}, {\"economy\": \"PSE\", \"Country\": \"West Bank and Gaza\", \"Growth_prom\": 1.5166162767652325, \"GDPcountry_2003\": 1257.69857009689, \"USA_base\": 39496.4858751381, \"GDPcountry_USA\": 0.03184330307442807, \"Region\": \"MEA\", \"income_classification\": \"LMC\", \"income_classif\": \"Lower middle income\"}, {\"economy\": \"VIR\", \"Country\": \"Virgin Islands (U.S.)\", \"Growth_prom\": -0.942663054276308, \"GDPcountry_2003\": 31731.2566241187, \"USA_base\": 39496.4858751381, \"GDPcountry_USA\": 0.803394426644235, \"Region\": \"LCN\", \"income_classification\": \"HIC\", \"income_classif\": \"High income\"}, {\"economy\": \"VNM\", \"Country\": \"Vietnam\", \"Growth_prom\": 4.928854929926914, \"GDPcountry_2003\": 480.579834256949, \"USA_base\": 39496.4858751381, \"GDPcountry_USA\": 0.012167660580645737, \"Region\": \"EAS\", \"income_classification\": \"LMC\", \"income_classif\": \"Lower middle income\"}, {\"economy\": \"VEN\", \"Country\": \"Venezuela, RB\", \"Growth_prom\": 0.34730473010930674, \"GDPcountry_2003\": 3272.61502369118, \"USA_base\": 39496.4858751381, \"GDPcountry_USA\": 0.08285838476964849, \"Region\": \"LCN\", \"income_classification\": \"INX\", \"income_classif\": \"Not classified\"}, {\"economy\": \"VUT\", \"Country\": \"Vanuatu\", \"Growth_prom\": -0.19096114561251334, \"GDPcountry_2003\": 1580.57563365273, \"USA_base\": 39496.4858751381, \"GDPcountry_USA\": 0.040018133224547364, \"Region\": \"EAS\", \"income_classification\": \"LMC\", \"income_classif\": \"Lower middle income\"}, {\"economy\": \"UZB\", \"Country\": \"Uzbekistan\", \"Growth_prom\": 2.419502139593642, \"GDPcountry_2003\": 396.377979026633, \"USA_base\": 39496.4858751381, \"GDPcountry_USA\": 0.010035778379872056, \"Region\": \"ECS\", \"income_classification\": \"LMC\", \"income_classif\": \"Lower middle income\"}, {\"economy\": \"URY\", \"Country\": \"Uruguay\", \"Growth_prom\": 1.595827311098811, \"GDPcountry_2003\": 3624.2056853979, \"USA_base\": 39496.4858751381, \"GDPcountry_USA\": 0.09176020613214182, \"Region\": \"LCN\", \"income_classification\": \"HIC\", \"income_classif\": \"High income\"}, {\"economy\": \"USA\", \"Country\": \"United States\", \"Growth_prom\": 1.9031477987279204, \"GDPcountry_2003\": 39496.4858751381, \"USA_base\": 39496.4858751381, \"GDPcountry_USA\": 1.0, \"Region\": \"NAC\", \"income_classification\": \"HIC\", \"income_classif\": \"High income\"}, {\"economy\": \"GBR\", \"Country\": \"United Kingdom\", \"Growth_prom\": 1.814806807835466, \"GDPcountry_2003\": 34487.4675722539, \"USA_base\": 39496.4858751381, \"GDPcountry_USA\": 0.873178127322025, \"Region\": \"ECS\", \"income_classification\": \"HIC\", \"income_classif\": \"High income\"}, {\"economy\": \"ARE\", \"Country\": \"United Arab Emirates\", \"Growth_prom\": -1.9033247628884118, \"GDPcountry_2003\": 33499.1027760786, \"USA_base\": 39496.4858751381, \"GDPcountry_USA\": 0.8481540074724805, \"Region\": \"MEA\", \"income_classification\": \"HIC\", \"income_classif\": \"High income\"}, {\"economy\": \"UKR\", \"Country\": \"Ukraine\", \"Growth_prom\": -0.5398758649165003, \"GDPcountry_2003\": 1087.78562719165, \"USA_base\": 39496.4858751381, \"GDPcountry_USA\": 0.027541326857040204, \"Region\": \"ECS\", \"income_classification\": \"LMC\", \"income_classif\": \"Lower middle income\"}, {\"economy\": \"UGA\", \"Country\": \"Uganda\", \"Growth_prom\": 2.331633807061099, \"GDPcountry_2003\": 254.301204311833, \"USA_base\": 39496.4858751381, \"GDPcountry_USA\": 0.006438577981741618, \"Region\": \"SSF\", \"income_classification\": \"LIC\", \"income_classif\": \"Low income\"}, {\"economy\": \"TUV\", \"Country\": \"Tuvalu\", \"Growth_prom\": 1.902916562170238, \"GDPcountry_2003\": 1874.85381936079, \"USA_base\": 39496.4858751381, \"GDPcountry_USA\": 0.04746887673216914, \"Region\": \"EAS\", \"income_classification\": \"UMC\", \"income_classif\": \"Upper middle income\"}, {\"economy\": \"TCA\", \"Country\": \"Turks and Caicos Islands\", \"Growth_prom\": -0.657608749965049, \"GDPcountry_2003\": 16384.902431222, \"USA_base\": 39496.4858751381, \"GDPcountry_USA\": 0.41484456321051644, \"Region\": \"LCN\", \"income_classification\": \"HIC\", \"income_classif\": \"High income\"}, {\"economy\": \"TKM\", \"Country\": \"Turkmenistan\", \"Growth_prom\": 3.819038048438461, \"GDPcountry_2003\": 1283.90878153306, \"USA_base\": 39496.4858751381, \"GDPcountry_USA\": 0.03250691176911117, \"Region\": \"ECS\", \"income_classification\": \"UMC\", \"income_classif\": \"Upper middle income\"}, {\"economy\": \"TUR\", \"Country\": \"Turkey\", \"Growth_prom\": 2.7185203677774705, \"GDPcountry_2003\": 4760.1040190451, \"USA_base\": 39496.4858751381, \"GDPcountry_USA\": 0.12051968456367021, \"Region\": \"ECS\", \"income_classification\": \"UMC\", \"income_classif\": \"Upper middle income\"}, {\"economy\": \"TUN\", \"Country\": \"Tunisia\", \"Growth_prom\": 2.3880604166454025, \"GDPcountry_2003\": 2760.40512203819, \"USA_base\": 39496.4858751381, \"GDPcountry_USA\": 0.06988989174289516, \"Region\": \"MEA\", \"income_classification\": \"LMC\", \"income_classif\": \"Lower middle income\"}, {\"economy\": \"TTO\", \"Country\": \"Trinidad and Tobago\", \"Growth_prom\": 2.2022653578501976, \"GDPcountry_2003\": 8807.86606828197, \"USA_base\": 39496.4858751381, \"GDPcountry_USA\": 0.2230037906695458, \"Region\": \"LCN\", \"income_classification\": \"HIC\", \"income_classif\": \"High income\"}, {\"economy\": \"TON\", \"Country\": \"Tonga\", \"Growth_prom\": 1.7616302513046487, \"GDPcountry_2003\": 2030.7754685692, \"USA_base\": 39496.4858751381, \"GDPcountry_USA\": 0.05141661146738916, \"Region\": \"EAS\", \"income_classification\": \"UMC\", \"income_classif\": \"Upper middle income\"}, {\"economy\": \"TGO\", \"Country\": \"Togo\", \"Growth_prom\": 1.1860573484113446, \"GDPcountry_2003\": 396.920579751545, \"USA_base\": 39496.4858751381, \"GDPcountry_USA\": 0.010049516329284247, \"Region\": \"SSF\", \"income_classification\": \"LIC\", \"income_classif\": \"Low income\"}, {\"economy\": \"TLS\", \"Country\": \"Timor-Leste\", \"Growth_prom\": 2.861797445744377, \"GDPcountry_2003\": 517.826968356368, \"USA_base\": 39496.4858751381, \"GDPcountry_USA\": 0.0131107098994426, \"Region\": \"EAS\", \"income_classification\": \"LMC\", \"income_classif\": \"Lower middle income\"}, {\"economy\": \"THA\", \"Country\": \"Thailand\", \"Growth_prom\": 4.085171371601673, \"GDPcountry_2003\": 2359.11683054367, \"USA_base\": 39496.4858751381, \"GDPcountry_USA\": 0.059729790594577066, \"Region\": \"EAS\", \"income_classification\": \"UMC\", \"income_classif\": \"Upper middle income\"}, {\"economy\": \"TZA\", \"Country\": \"Tanzania\", \"Growth_prom\": 2.1695054914702245, \"GDPcountry_2003\": 431.27972978737, \"USA_base\": 39496.4858751381, \"GDPcountry_USA\": 0.010919445622347078, \"Region\": \"SSF\", \"income_classification\": \"LMC\", \"income_classif\": \"Lower middle income\"}, {\"economy\": \"TJK\", \"Country\": \"Tajikistan\", \"Growth_prom\": -0.007851623753538435, \"GDPcountry_2003\": 237.757335195414, \"USA_base\": 39496.4858751381, \"GDPcountry_USA\": 0.006019708587418289, \"Region\": \"ECS\", \"income_classification\": \"LMC\", \"income_classif\": \"Lower middle income\"}, {\"economy\": \"SYR\", \"Country\": \"Syrian Arab Republic\", \"Growth_prom\": 1.4331017855587125, \"GDPcountry_2003\": 5494.83965360699, \"USA_base\": 39496.4858751381, \"GDPcountry_USA\": 0.1391222416844389, \"Region\": \"MEA\", \"income_classification\": \"LIC\", \"income_classif\": \"Low income\"}, {\"economy\": \"CHE\", \"Country\": \"Switzerland\", \"Growth_prom\": 0.9141071172368627, \"GDPcountry_2003\": 49470.3971259674, \"USA_base\": 39496.4858751381, \"GDPcountry_USA\": 1.252526548370917, \"Region\": \"ECS\", \"income_classification\": \"HIC\", \"income_classif\": \"High income\"}, {\"economy\": \"SWE\", \"Country\": \"Sweden\", \"Growth_prom\": 1.9393162590223505, \"GDPcountry_2003\": 37321.7979047059, \"USA_base\": 39496.4858751381, \"GDPcountry_USA\": 0.9449397098945173, \"Region\": \"ECS\", \"income_classification\": \"HIC\", \"income_classif\": \"High income\"}, {\"economy\": \"SUR\", \"Country\": \"Suriname\", \"Growth_prom\": 1.3650006144927302, \"GDPcountry_2003\": 2611.37749349033, \"USA_base\": 39496.4858751381, \"GDPcountry_USA\": 0.06611670470496507, \"Region\": \"LCN\", \"income_classification\": \"UMC\", \"income_classif\": \"Upper middle income\"}, {\"economy\": \"SDN\", \"Country\": \"Sudan\", \"Growth_prom\": 0.3447408376399826, \"GDPcountry_2003\": 586.753211436903, \"USA_base\": 39496.4858751381, \"GDPcountry_USA\": 0.014855833333928252, \"Region\": \"SSF\", \"income_classification\": \"LIC\", \"income_classif\": \"Low income\"}, {\"economy\": \"VCT\", \"Country\": \"St. Vincent and the Grenadines\", \"Growth_prom\": 2.397101563317236, \"GDPcountry_2003\": 4447.91831213795, \"USA_base\": 39496.4858751381, \"GDPcountry_USA\": 0.1126155457525852, \"Region\": \"LCN\", \"income_classification\": \"UMC\", \"income_classif\": \"Upper middle income\"}, {\"economy\": \"MAF\", \"Country\": \"St. Martin (French part)\", \"Growth_prom\": null, \"GDPcountry_2003\": null, \"USA_base\": 39496.4858751381, \"GDPcountry_USA\": null, \"Region\": \"LCN\", \"income_classification\": \"HIC\", \"income_classif\": \"High income\"}, {\"economy\": \"LCA\", \"Country\": \"St. Lucia\", \"Growth_prom\": 1.7855986399962052, \"GDPcountry_2003\": 6150.92136926062, \"USA_base\": 39496.4858751381, \"GDPcountry_USA\": 0.1557333831851721, \"Region\": \"LCN\", \"income_classification\": \"UMC\", \"income_classif\": \"Upper middle income\"}, {\"economy\": \"KNA\", \"Country\": \"St. Kitts and Nevis\", \"Growth_prom\": 3.3732585707523937, \"GDPcountry_2003\": 10270.6041633668, \"USA_base\": 39496.4858751381, \"GDPcountry_USA\": 0.2600384296424672, \"Region\": \"LCN\", \"income_classification\": \"HIC\", \"income_classif\": \"High income\"}, {\"economy\": \"LKA\", \"Country\": \"Sri Lanka\", \"Growth_prom\": 3.267964242753627, \"GDPcountry_2003\": 982.195696950166, \"USA_base\": 39496.4858751381, \"GDPcountry_USA\": 0.024867926226531202, \"Region\": \"SAS\", \"income_classification\": \"LMC\", \"income_classif\": \"Lower middle income\"}, {\"economy\": \"ESP\", \"Country\": \"Spain\", \"Growth_prom\": 2.3987756281294192, \"GDPcountry_2003\": 21463.4426577449, \"USA_base\": 39496.4858751381, \"GDPcountry_USA\": 0.5434266411851977, \"Region\": \"ECS\", \"income_classification\": \"HIC\", \"income_classif\": \"High income\"}, {\"economy\": \"SSD\", \"Country\": \"South Sudan\", \"Growth_prom\": -7.680622530715632, \"GDPcountry_2003\": null, \"USA_base\": 39496.4858751381, \"GDPcountry_USA\": null, \"Region\": \"SSF\", \"income_classification\": \"LIC\", \"income_classif\": \"Low income\"}, {\"economy\": \"ZAF\", \"Country\": \"South Africa\", \"Growth_prom\": 0.6821932910358649, \"GDPcountry_2003\": 4217.11478019175, \"USA_base\": 39496.4858751381, \"GDPcountry_USA\": 0.10677189848037345, \"Region\": \"SSF\", \"income_classification\": \"UMC\", \"income_classif\": \"Upper middle income\"}, {\"economy\": \"SOM\", \"Country\": \"Somalia\", \"Growth_prom\": 0.2290198545341791, \"GDPcountry_2003\": null, \"USA_base\": 39496.4858751381, \"GDPcountry_USA\": null, \"Region\": \"SSF\", \"income_classification\": \"LIC\", \"income_classif\": \"Low income\"}, {\"economy\": \"SLB\", \"Country\": \"Solomon Islands\", \"Growth_prom\": -0.1408553649767555, \"GDPcountry_2003\": 788.613119344058, \"USA_base\": 39496.4858751381, \"GDPcountry_USA\": 0.019966665435429715, \"Region\": \"EAS\", \"income_classification\": \"LMC\", \"income_classif\": \"Lower middle income\"}, {\"economy\": \"SVN\", \"Country\": \"Slovenia\", \"Growth_prom\": 2.264471597383037, \"GDPcountry_2003\": 14849.0372415032, \"USA_base\": 39496.4858751381, \"GDPcountry_USA\": 0.37595844066852135, \"Region\": \"ECS\", \"income_classification\": \"HIC\", \"income_classif\": \"High income\"}, {\"economy\": \"SVK\", \"Country\": \"Slovak Republic\", \"Growth_prom\": 3.54019144552903, \"GDPcountry_2003\": 8712.69879312059, \"USA_base\": 39496.4858751381, \"GDPcountry_USA\": 0.2205942782014686, \"Region\": \"ECS\", \"income_classification\": \"HIC\", \"income_classif\": \"High income\"}, {\"economy\": \"SXM\", \"Country\": \"Sint Maarten (Dutch part)\", \"Growth_prom\": -1.801919096069828, \"GDPcountry_2003\": null, \"USA_base\": 39496.4858751381, \"GDPcountry_USA\": null, \"Region\": \"LCN\", \"income_classification\": \"HIC\", \"income_classif\": \"High income\"}, {\"economy\": \"SGP\", \"Country\": \"Singapore\", \"Growth_prom\": 4.827125151291191, \"GDPcountry_2003\": 23730.1524496489, \"USA_base\": 39496.4858751381, \"GDPcountry_USA\": 0.6008168049346979, \"Region\": \"EAS\", \"income_classification\": \"HIC\", \"income_classif\": \"High income\"}, {\"economy\": \"SLE\", \"Country\": \"Sierra Leone\", \"Growth_prom\": 0.5955954879224505, \"GDPcountry_2003\": 266.446905426105, \"USA_base\": 39496.4858751381, \"GDPcountry_USA\": 0.006746091443892876, \"Region\": \"SSF\", \"income_classification\": \"LIC\", \"income_classif\": \"Low income\"}, {\"economy\": \"SYC\", \"Country\": \"Seychelles\", \"Growth_prom\": 2.7070933765361134, \"GDPcountry_2003\": 8524.96123557779, \"USA_base\": 39496.4858751381, \"GDPcountry_USA\": 0.21584100576765505, \"Region\": \"SSF\", \"income_classification\": \"HIC\", \"income_classif\": \"High income\"}, {\"economy\": \"SRB\", \"Country\": \"Serbia\", \"Growth_prom\": 3.5545831262480103, \"GDPcountry_2003\": 3005.42635224484, \"USA_base\": 39496.4858751381, \"GDPcountry_USA\": 0.0760935127683516, \"Region\": \"ECS\", \"income_classification\": \"UMC\", \"income_classif\": \"Upper middle income\"}, {\"economy\": \"SEN\", \"Country\": \"Senegal\", \"Growth_prom\": 0.2730302465674361, \"GDPcountry_2003\": 831.831040294406, \"USA_base\": 39496.4858751381, \"GDPcountry_USA\": 0.021060887364109007, \"Region\": \"SSF\", \"income_classification\": \"LMC\", \"income_classif\": \"Lower middle income\"}, {\"economy\": \"SAU\", \"Country\": \"Saudi Arabia\", \"Growth_prom\": 1.168556103117369, \"GDPcountry_2003\": 9609.96868647714, \"USA_base\": 39496.4858751381, \"GDPcountry_USA\": 0.24331199278987847, \"Region\": \"MEA\", \"income_classification\": \"HIC\", \"income_classif\": \"High income\"}, {\"economy\": \"STP\", \"Country\": \"Sao Tome and Principe\", \"Growth_prom\": 2.4013482398898667, \"GDPcountry_2003\": 678.737963932546, \"USA_base\": 39496.4858751381, \"GDPcountry_USA\": 0.01718476843935607, \"Region\": \"SSF\", \"income_classification\": \"LMC\", \"income_classif\": \"Lower middle income\"}, {\"economy\": \"SMR\", \"Country\": \"San Marino\", \"Growth_prom\": -0.10301208271916233, \"GDPcountry_2003\": 51270.1292257065, \"USA_base\": 39496.4858751381, \"GDPcountry_USA\": 1.29809344020602, \"Region\": \"ECS\", \"income_classification\": \"HIC\", \"income_classif\": \"High income\"}, {\"economy\": \"WSM\", \"Country\": \"Samoa\", \"Growth_prom\": 1.4230676754673508, \"GDPcountry_2003\": 1909.15444119897, \"USA_base\": 39496.4858751381, \"GDPcountry_USA\": 0.04833732416687551, \"Region\": \"EAS\", \"income_classification\": \"LMC\", \"income_classif\": \"Lower middle income\"}, {\"economy\": \"RWA\", \"Country\": \"Rwanda\", \"Growth_prom\": 2.014341648967174, \"GDPcountry_2003\": 249.743313122503, \"USA_base\": 39496.4858751381, \"GDPcountry_USA\": 0.006323178064803714, \"Region\": \"SSF\", \"income_classification\": \"LIC\", \"income_classif\": \"Low income\"}, {\"economy\": \"RUS\", \"Country\": \"Russian Federation\", \"Growth_prom\": 0.7714182958200261, \"GDPcountry_2003\": 2975.12535330125, \"USA_base\": 39496.4858751381, \"GDPcountry_USA\": 0.07532633061854259, \"Region\": \"ECS\", \"income_classification\": \"UMC\", \"income_classif\": \"Upper middle income\"}, {\"economy\": \"ROU\", \"Country\": \"Romania\", \"Growth_prom\": 2.758297915074712, \"GDPcountry_2003\": 2679.41190951209, \"USA_base\": 39496.4858751381, \"GDPcountry_USA\": 0.06783924823040276, \"Region\": \"ECS\", \"income_classification\": \"UMC\", \"income_classif\": \"Upper middle income\"}, {\"economy\": \"QAT\", \"Country\": \"Qatar\", \"Growth_prom\": -0.004469181165090275, \"GDPcountry_2003\": 34517.6032080083, \"USA_base\": 39496.4858751381, \"GDPcountry_USA\": 0.8739411226895033, \"Region\": \"MEA\", \"income_classification\": \"HIC\", \"income_classif\": \"High income\"}, {\"economy\": \"PRI\", \"Country\": \"Puerto Rico\", \"Growth_prom\": 2.62338101575466, \"GDPcountry_2003\": 19557.1202492358, \"USA_base\": 39496.4858751381, \"GDPcountry_USA\": 0.49516102042755256, \"Region\": \"LCN\", \"income_classification\": \"HIC\", \"income_classif\": \"High income\"}, {\"economy\": \"PRT\", \"Country\": \"Portugal\", \"Growth_prom\": 2.801107965412892, \"GDPcountry_2003\": 15762.9757897367, \"USA_base\": 39496.4858751381, \"GDPcountry_USA\": 0.39909818406551045, \"Region\": \"ECS\", \"income_classification\": \"HIC\", \"income_classif\": \"High income\"}, {\"economy\": \"POL\", \"Country\": \"Poland\", \"Growth_prom\": 3.604576315134861, \"GDPcountry_2003\": 5701.6022116161, \"USA_base\": 39496.4858751381, \"GDPcountry_USA\": 0.1443572025531794, \"Region\": \"ECS\", \"income_classification\": \"HIC\", \"income_classif\": \"High income\"}, {\"economy\": \"PHL\", \"Country\": \"Philippines\", \"Growth_prom\": 1.7512475415349622, \"GDPcountry_2003\": 1048.00820456167, \"USA_base\": 39496.4858751381, \"GDPcountry_USA\": 0.02653421390132738, \"Region\": \"EAS\", \"income_classification\": \"LMC\", \"income_classif\": \"Lower middle income\"}, {\"economy\": \"PER\", \"Country\": \"Peru\", \"Growth_prom\": 1.4032265175156058, \"GDPcountry_2003\": 2145.64388854096, \"USA_base\": 39496.4858751381, \"GDPcountry_USA\": 0.05432493147172824, \"Region\": \"LCN\", \"income_classification\": \"UMC\", \"income_classif\": \"Upper middle income\"}, {\"economy\": \"PRY\", \"Country\": \"Paraguay\", \"Growth_prom\": 2.3076195348845756, \"GDPcountry_2003\": 1365.41641811806, \"USA_base\": 39496.4858751381, \"GDPcountry_USA\": 0.034570579834231535, \"Region\": \"LCN\", \"income_classification\": \"UMC\", \"income_classif\": \"Upper middle income\"}, {\"economy\": \"PNG\", \"Country\": \"Papua New Guinea\", \"Growth_prom\": 1.5005539829667442, \"GDPcountry_2003\": 568.246348574007, \"USA_base\": 39496.4858751381, \"GDPcountry_USA\": 0.01438726347377911, \"Region\": \"EAS\", \"income_classification\": \"LMC\", \"income_classif\": \"Lower middle income\"}, {\"economy\": \"PAN\", \"Country\": \"Panama\", \"Growth_prom\": 2.66620600449441, \"GDPcountry_2003\": 4267.29268669665, \"USA_base\": 39496.4858751381, \"GDPcountry_USA\": 0.10804233825224405, \"Region\": \"LCN\", \"income_classification\": \"UMC\", \"income_classif\": \"Upper middle income\"}, {\"economy\": \"PLW\", \"Country\": \"Palau\", \"Growth_prom\": 0.7039867193742342, \"GDPcountry_2003\": 7771.20936805976, \"USA_base\": 39496.4858751381, \"GDPcountry_USA\": 0.19675698219399088, \"Region\": \"EAS\", \"income_classification\": \"HIC\", \"income_classif\": \"High income\"}, {\"economy\": \"PAK\", \"Country\": \"Pakistan\", \"Growth_prom\": 2.283284906082715, \"GDPcountry_2003\": 599.376330540607, \"USA_base\": 39496.4858751381, \"GDPcountry_USA\": 0.015175434402833723, \"Region\": \"SAS\", \"income_classification\": \"LMC\", \"income_classif\": \"Lower middle income\"}, {\"economy\": \"OMN\", \"Country\": \"Oman\", \"Growth_prom\": 4.135646818217835, \"GDPcountry_2003\": 9066.31237100959, \"USA_base\": 39496.4858751381, \"GDPcountry_USA\": 0.22954731718845325, \"Region\": \"MEA\", \"income_classification\": \"HIC\", \"income_classif\": \"High income\"}, {\"economy\": \"NOR\", \"Country\": \"Norway\", \"Growth_prom\": 2.322232584607208, \"GDPcountry_2003\": 50134.8907734947, \"USA_base\": 39496.4858751381, \"GDPcountry_USA\": 1.2693506691199878, \"Region\": \"ECS\", \"income_classification\": \"HIC\", \"income_classif\": \"High income\"}, {\"economy\": \"MNP\", \"Country\": \"Northern Mariana Islands\", \"Growth_prom\": -1.7306016015626795, \"GDPcountry_2003\": 21379.0247437623, \"USA_base\": 39496.4858751381, \"GDPcountry_USA\": 0.5412892886559252, \"Region\": \"EAS\", \"income_classification\": \"HIC\", \"income_classif\": \"High income\"}, {\"economy\": \"MKD\", \"Country\": \"North Macedonia\", \"Growth_prom\": 1.1940404839680068, \"GDPcountry_2003\": 2440.47694280043, \"USA_base\": 39496.4858751381, \"GDPcountry_USA\": 0.06178972353428131, \"Region\": \"ECS\", \"income_classification\": \"UMC\", \"income_classif\": \"Upper middle income\"}, {\"economy\": \"NGA\", \"Country\": \"Nigeria\", \"Growth_prom\": 1.0914818347616058, \"GDPcountry_2003\": 795.386228652408, \"USA_base\": 39496.4858751381, \"GDPcountry_USA\": 0.02013815181347768, \"Region\": \"SSF\", \"income_classification\": \"LMC\", \"income_classif\": \"Lower middle income\"}, {\"economy\": \"NER\", \"Country\": \"Niger\", \"Growth_prom\": -0.49523703792524526, \"GDPcountry_2003\": 268.349892996455, \"USA_base\": 39496.4858751381, \"GDPcountry_USA\": 0.006794272630856345, \"Region\": \"SSF\", \"income_classification\": \"LIC\", \"income_classif\": \"Low income\"}, {\"economy\": \"NIC\", \"Country\": \"Nicaragua\", \"Growth_prom\": 0.4104217518925779, \"GDPcountry_2003\": 1005.73304356528, \"USA_base\": 39496.4858751381, \"GDPcountry_USA\": 0.02546386143680595, \"Region\": \"LCN\", \"income_classification\": \"LMC\", \"income_classif\": \"Lower middle income\"}, {\"economy\": \"NZL\", \"Country\": \"New Zealand\", \"Growth_prom\": 1.3791247605648878, \"GDPcountry_2003\": 21913.7081719961, \"USA_base\": 39496.4858751381, \"GDPcountry_USA\": 0.5548267823439489, \"Region\": \"EAS\", \"income_classification\": \"HIC\", \"income_classif\": \"High income\"}, {\"economy\": \"NCL\", \"Country\": \"New Caledonia\", \"Growth_prom\": 1.7540085158030632, \"GDPcountry_2003\": 21817.3151117364, \"USA_base\": 39496.4858751381, \"GDPcountry_USA\": 0.5523862345806761, \"Region\": \"EAS\", \"income_classification\": \"HIC\", \"income_classif\": \"High income\"}, {\"economy\": \"NLD\", \"Country\": \"Netherlands\", \"Growth_prom\": 2.006075133218674, \"GDPcountry_2003\": 35672.2065978453, \"USA_base\": 39496.4858751381, \"GDPcountry_USA\": 0.9031741889801879, \"Region\": \"ECS\", \"income_classification\": \"HIC\", \"income_classif\": \"High income\"}, {\"economy\": \"NPL\", \"Country\": \"Nepal\", \"Growth_prom\": 1.9618787662829498, \"GDPcountry_2003\": 252.402351773172, \"USA_base\": 39496.4858751381, \"GDPcountry_USA\": 0.006390501488438798, \"Region\": \"SAS\", \"income_classification\": \"LMC\", \"income_classif\": \"Lower middle income\"}, {\"economy\": \"NRU\", \"Country\": \"Nauru\", \"Growth_prom\": 6.469713082484516, \"GDPcountry_2003\": null, \"USA_base\": 39496.4858751381, \"GDPcountry_USA\": null, \"Region\": \"EAS\", \"income_classification\": \"HIC\", \"income_classif\": \"High income\"}, {\"economy\": \"NAM\", \"Country\": \"Namibia\", \"Growth_prom\": 0.5822785855235161, \"GDPcountry_2003\": 2621.7003949742, \"USA_base\": 39496.4858751381, \"GDPcountry_USA\": 0.06637806723520395, \"Region\": \"SSF\", \"income_classification\": \"UMC\", \"income_classif\": \"Upper middle income\"}, {\"economy\": \"MMR\", \"Country\": \"Myanmar\", \"Growth_prom\": 4.251398411715997, \"GDPcountry_2003\": 161.055523608734, \"USA_base\": 39496.4858751381, \"GDPcountry_USA\": 0.004077717802993552, \"Region\": \"EAS\", \"income_classification\": \"LMC\", \"income_classif\": \"Lower middle income\"}, {\"economy\": \"MOZ\", \"Country\": \"Mozambique\", \"Growth_prom\": 2.357170161513511, \"GDPcountry_2003\": 326.075190861329, \"USA_base\": 39496.4858751381, \"GDPcountry_USA\": 0.008255802602088809, \"Region\": \"SSF\", \"income_classification\": \"LIC\", \"income_classif\": \"Low income\"}, {\"economy\": \"MAR\", \"Country\": \"Morocco\", \"Growth_prom\": 2.608999571482151, \"GDPcountry_2003\": 1725.45746606577, \"USA_base\": 39496.4858751381, \"GDPcountry_USA\": 0.04368635405996703, \"Region\": \"MEA\", \"income_classification\": \"LMC\", \"income_classif\": \"Lower middle income\"}, {\"economy\": \"MNE\", \"Country\": \"Montenegro\", \"Growth_prom\": 1.7807419284418773, \"GDPcountry_2003\": 2789.15906483509, \"USA_base\": 39496.4858751381, \"GDPcountry_USA\": 0.07061790442958837, \"Region\": \"ECS\", \"income_classification\": \"UMC\", \"income_classif\": \"Upper middle income\"}, {\"economy\": \"MNG\", \"Country\": \"Mongolia\", \"Growth_prom\": 2.880479154657741, \"GDPcountry_2003\": 646.192471046652, \"USA_base\": 39496.4858751381, \"GDPcountry_USA\": 0.016360758602410538, \"Region\": \"EAS\", \"income_classification\": \"LMC\", \"income_classif\": \"Lower middle income\"}, {\"economy\": \"MCO\", \"Country\": \"Monaco\", \"Growth_prom\": 1.593057010940022, \"GDPcountry_2003\": 108656.802575207, \"USA_base\": 39496.4858751381, \"GDPcountry_USA\": 2.7510498761512174, \"Region\": \"ECS\", \"income_classification\": \"HIC\", \"income_classif\": \"High income\"}, {\"economy\": \"MDA\", \"Country\": \"Moldova\", \"Growth_prom\": 3.2549696445236713, \"GDPcountry_2003\": 682.525508823377, \"USA_base\": 39496.4858751381, \"GDPcountry_USA\": 0.01728066418316489, \"Region\": \"ECS\", \"income_classification\": \"UMC\", \"income_classif\": \"Upper middle income\"}, {\"economy\": \"FSM\", \"Country\": \"Micronesia, Fed. Sts.\", \"Growth_prom\": 0.4397768156995737, \"GDPcountry_2003\": 2295.86817833156, \"USA_base\": 39496.4858751381, \"GDPcountry_USA\": 0.05812841642645334, \"Region\": \"EAS\", \"income_classification\": \"LMC\", \"income_classif\": \"Lower middle income\"}, {\"economy\": \"MEX\", \"Country\": \"Mexico\", \"Growth_prom\": 1.5154240106819574, \"GDPcountry_2003\": 7075.36964299974, \"USA_base\": 39496.4858751381, \"GDPcountry_USA\": 0.17913921925528772, \"Region\": \"LCN\", \"income_classification\": \"UMC\", \"income_classif\": \"Upper middle income\"}, {\"economy\": \"MUS\", \"Country\": \"Mauritius\", \"Growth_prom\": 3.198729908527334, \"GDPcountry_2003\": 4793.71817900161, \"USA_base\": 39496.4858751381, \"GDPcountry_USA\": 0.12137075167031802, \"Region\": \"SSF\", \"income_classification\": \"UMC\", \"income_classif\": \"Upper middle income\"}, {\"economy\": \"MRT\", \"Country\": \"Mauritania\", \"Growth_prom\": 0.5578760860616304, \"GDPcountry_2003\": 717.899867608237, \"USA_base\": 39496.4858751381, \"GDPcountry_USA\": 0.018176297250286112, \"Region\": \"SSF\", \"income_classification\": \"LMC\", \"income_classif\": \"Lower middle income\"}, {\"economy\": \"MHL\", \"Country\": \"Marshall Islands\", \"Growth_prom\": 1.0126034550367606, \"GDPcountry_2003\": 2457.6545403535, \"USA_base\": 39496.4858751381, \"GDPcountry_USA\": 0.06222463811395744, \"Region\": \"EAS\", \"income_classification\": \"UMC\", \"income_classif\": \"Upper middle income\"}, {\"economy\": \"MLT\", \"Country\": \"Malta\", \"Growth_prom\": 4.316524608955942, \"GDPcountry_2003\": 13669.497117709, \"USA_base\": 39496.4858751381, \"GDPcountry_USA\": 0.3460940084878172, \"Region\": \"MEA\", \"income_classification\": \"HIC\", \"income_classif\": \"High income\"}, {\"economy\": \"MLI\", \"Country\": \"Mali\", \"Growth_prom\": 1.6341269441531303, \"GDPcountry_2003\": 393.405009104329, \"USA_base\": 39496.4858751381, \"GDPcountry_USA\": 0.009960506621981934, \"Region\": \"SSF\", \"income_classification\": \"LIC\", \"income_classif\": \"Low income\"}, {\"economy\": \"MDV\", \"Country\": \"Maldives\", \"Growth_prom\": 1.3119502933981437, \"GDPcountry_2003\": 3476.00627289952, \"USA_base\": 39496.4858751381, \"GDPcountry_USA\": 0.08800798845467833, \"Region\": \"SAS\", \"income_classification\": \"UMC\", \"income_classif\": \"Upper middle income\"}, {\"economy\": \"MYS\", \"Country\": \"Malaysia\", \"Growth_prom\": 3.7103344673412364, \"GDPcountry_2003\": 4461.84732546759, \"USA_base\": 39496.4858751381, \"GDPcountry_USA\": 0.11296821037631082, \"Region\": \"EAS\", \"income_classification\": \"UMC\", \"income_classif\": \"Upper middle income\"}, {\"economy\": \"MWI\", \"Country\": \"Malawi\", \"Growth_prom\": 1.4403240904616785, \"GDPcountry_2003\": 267.399011935959, \"USA_base\": 39496.4858751381, \"GDPcountry_USA\": 0.006770197550771952, \"Region\": \"SSF\", \"income_classification\": \"LIC\", \"income_classif\": \"Low income\"}, {\"economy\": \"MDG\", \"Country\": \"Madagascar\", \"Growth_prom\": -0.9325828267423591, \"GDPcountry_2003\": 368.797236936755, \"USA_base\": 39496.4858751381, \"GDPcountry_USA\": 0.009337469619516257, \"Region\": \"SSF\", \"income_classification\": \"LIC\", \"income_classif\": \"Low income\"}, {\"economy\": \"MAC\", \"Country\": \"Macao SAR, China\", \"Growth_prom\": 2.1742518324519273, \"GDPcountry_2003\": 17921.1045739797, \"USA_base\": 39496.4858751381, \"GDPcountry_USA\": 0.4537392169681738, \"Region\": \"EAS\", \"income_classification\": \"HIC\", \"income_classif\": \"High income\"}, {\"economy\": \"LUX\", \"Country\": \"Luxembourg\", \"Growth_prom\": 2.4376523673528956, \"GDPcountry_2003\": 65544.591951831, \"USA_base\": 39496.4858751381, \"GDPcountry_USA\": 1.6595043963921212, \"Region\": \"ECS\", \"income_classification\": \"HIC\", \"income_classif\": \"High income\"}, {\"economy\": \"LTU\", \"Country\": \"Lithuania\", \"Growth_prom\": 5.250117373366858, \"GDPcountry_2003\": 5499.42898911387, \"USA_base\": 39496.4858751381, \"GDPcountry_USA\": 0.13923843773087674, \"Region\": \"ECS\", \"income_classification\": \"HIC\", \"income_classif\": \"High income\"}, {\"economy\": \"LIE\", \"Country\": \"Liechtenstein\", \"Growth_prom\": 2.414340203123014, \"GDPcountry_2003\": 89859.8653728723, \"USA_base\": 39496.4858751381, \"GDPcountry_USA\": 2.2751357084513812, \"Region\": \"ECS\", \"income_classification\": \"HIC\", \"income_classif\": \"High income\"}, {\"economy\": \"LBY\", \"Country\": \"Libya\", \"Growth_prom\": 2.277366392024937, \"GDPcountry_2003\": 4673.14557574043, \"USA_base\": 39496.4858751381, \"GDPcountry_USA\": 0.11831800911387005, \"Region\": \"MEA\", \"income_classification\": \"UMC\", \"income_classif\": \"Upper middle income\"}, {\"economy\": \"LBR\", \"Country\": \"Liberia\", \"Growth_prom\": -0.7839048854016739, \"GDPcountry_2003\": 243.089577534363, \"USA_base\": 39496.4858751381, \"GDPcountry_USA\": 0.006154714075142084, \"Region\": \"SSF\", \"income_classification\": \"LIC\", \"income_classif\": \"Low income\"}, {\"economy\": \"LSO\", \"Country\": \"Lesotho\", \"Growth_prom\": 2.6040964998106237, \"GDPcountry_2003\": 573.651778082285, \"USA_base\": 39496.4858751381, \"GDPcountry_USA\": 0.014524121966085652, \"Region\": \"SSF\", \"income_classification\": \"LMC\", \"income_classif\": \"Lower middle income\"}, {\"economy\": \"LBN\", \"Country\": \"Lebanon\", \"Growth_prom\": 1.085684031931268, \"GDPcountry_2003\": 4576.38761739193, \"USA_base\": 39496.4858751381, \"GDPcountry_USA\": 0.11586822260237166, \"Region\": \"MEA\", \"income_classification\": \"UMC\", \"income_classif\": \"Upper middle income\"}, {\"economy\": \"LVA\", \"Country\": \"Latvia\", \"Growth_prom\": 4.8258669560786, \"GDPcountry_2003\": 5145.19523190241, \"USA_base\": 39496.4858751381, \"GDPcountry_USA\": 0.1302696966046076, \"Region\": \"ECS\", \"income_classification\": \"HIC\", \"income_classif\": \"High income\"}, {\"economy\": \"LAO\", \"Country\": \"Lao PDR\", \"Growth_prom\": 4.204597353272883, \"GDPcountry_2003\": 362.821413486106, \"USA_base\": 39496.4858751381, \"GDPcountry_USA\": 0.009186169489435302, \"Region\": \"EAS\", \"income_classification\": \"LMC\", \"income_classif\": \"Lower middle income\"}, {\"economy\": \"KGZ\", \"Country\": \"Kyrgyz Republic\", \"Growth_prom\": 0.4746848882414228, \"GDPcountry_2003\": 380.506432394744, \"USA_base\": 39496.4858751381, \"GDPcountry_USA\": 0.009633931322337258, \"Region\": \"ECS\", \"income_classification\": \"LMC\", \"income_classif\": \"Lower middle income\"}, {\"economy\": \"KWT\", \"Country\": \"Kuwait\", \"Growth_prom\": -1.2227368745956761, \"GDPcountry_2003\": 22148.378150112, \"USA_base\": 39496.4858751381, \"GDPcountry_USA\": 0.5607683230384242, \"Region\": \"MEA\", \"income_classification\": \"HIC\", \"income_classif\": \"High income\"}, {\"economy\": \"XKX\", \"Country\": \"Kosovo\", \"Growth_prom\": 3.679623051680501, \"GDPcountry_2003\": null, \"USA_base\": 39496.4858751381, \"GDPcountry_USA\": null, \"Region\": \"ECS\", \"income_classification\": \"UMC\", \"income_classif\": \"Upper middle income\"}, {\"economy\": \"KOR\", \"Country\": \"Korea, Rep.\", \"Growth_prom\": 5.931253328196115, \"GDPcountry_2003\": 14672.8574703505, \"USA_base\": 39496.4858751381, \"GDPcountry_USA\": 0.37149779645552317, \"Region\": \"EAS\", \"income_classification\": \"HIC\", \"income_classif\": \"High income\"}, {\"economy\": \"PRK\", \"Country\": \"Korea, Dem. People's Rep.\", \"Growth_prom\": null, \"GDPcountry_2003\": null, \"USA_base\": 39496.4858751381, \"GDPcountry_USA\": null, \"Region\": \"EAS\", \"income_classification\": \"LIC\", \"income_classif\": \"Low income\"}, {\"economy\": \"KIR\", \"Country\": \"Kiribati\", \"Growth_prom\": -0.18205458740826092, \"GDPcountry_2003\": 1015.6670058538, \"USA_base\": 39496.4858751381, \"GDPcountry_USA\": 0.02571537652905807, \"Region\": \"EAS\", \"income_classification\": \"LMC\", \"income_classif\": \"Lower middle income\"}, {\"economy\": \"KEN\", \"Country\": \"Kenya\", \"Growth_prom\": 1.3102212493544174, \"GDPcountry_2003\": 429.787818950371, \"USA_base\": 39496.4858751381, \"GDPcountry_USA\": 0.010881672367234828, \"Region\": \"SSF\", \"income_classification\": \"LMC\", \"income_classif\": \"Lower middle income\"}, {\"economy\": \"KAZ\", \"Country\": \"Kazakhstan\", \"Growth_prom\": 2.3298258950480824, \"GDPcountry_2003\": 2068.12397936842, \"USA_base\": 39496.4858751381, \"GDPcountry_USA\": 0.05236222751326452, \"Region\": \"ECS\", \"income_classification\": \"UMC\", \"income_classif\": \"Upper middle income\"}, {\"economy\": \"JOR\", \"Country\": \"Jordan\", \"Growth_prom\": 1.0529723080432747, \"GDPcountry_2003\": 1876.25933833432, \"USA_base\": 39496.4858751381, \"GDPcountry_USA\": 0.04750446265690111, \"Region\": \"MEA\", \"income_classification\": \"UMC\", \"income_classif\": \"Upper middle income\"}, {\"economy\": \"JPN\", \"Country\": \"Japan\", \"Growth_prom\": 2.9621466701677783, \"GDPcountry_2003\": 35387.0374203599, \"USA_base\": 39496.4858751381, \"GDPcountry_USA\": 0.8959540737935628, \"Region\": \"EAS\", \"income_classification\": \"HIC\", \"income_classif\": \"High income\"}, {\"economy\": \"JAM\", \"Country\": \"Jamaica\", \"Growth_prom\": 0.35389335612782336, \"GDPcountry_2003\": 3480.5116649541, \"USA_base\": 39496.4858751381, \"GDPcountry_USA\": 0.08812205916134382, \"Region\": \"LCN\", \"income_classification\": \"UMC\", \"income_classif\": \"Upper middle income\"}, {\"economy\": \"ITA\", \"Country\": \"Italy\", \"Growth_prom\": 1.9037221168549865, \"GDPcountry_2003\": 27465.6752987224, \"USA_base\": 39496.4858751381, \"GDPcountry_USA\": 0.6953954178493447, \"Region\": \"ECS\", \"income_classification\": \"HIC\", \"income_classif\": \"High income\"}, {\"economy\": \"ISR\", \"Country\": \"Israel\", \"Growth_prom\": 2.6354389488133374, \"GDPcountry_2003\": 18991.3798529841, \"USA_base\": 39496.4858751381, \"GDPcountry_USA\": 0.4808372044293344, \"Region\": \"MEA\", \"income_classification\": \"HIC\", \"income_classif\": \"High income\"}, {\"economy\": \"IMN\", \"Country\": \"Isle of Man\", \"Growth_prom\": 4.883054064626558, \"GDPcountry_2003\": 29522.2777941644, \"USA_base\": 39496.4858751381, \"GDPcountry_USA\": 0.747465936273278, \"Region\": \"ECS\", \"income_classification\": \"HIC\", \"income_classif\": \"High income\"}, {\"economy\": \"IRL\", \"Country\": \"Ireland\", \"Growth_prom\": 3.9194496085368553, \"GDPcountry_2003\": 41112.7482190841, \"USA_base\": 39496.4858751381, \"GDPcountry_USA\": 1.0409216746283594, \"Region\": \"ECS\", \"income_classification\": \"HIC\", \"income_classif\": \"High income\"}, {\"economy\": \"IRQ\", \"Country\": \"Iraq\", \"Growth_prom\": 4.174839645531138, \"GDPcountry_2003\": 854.825280833723, \"USA_base\": 39496.4858751381, \"GDPcountry_USA\": 0.021643071830139977, \"Region\": \"MEA\", \"income_classification\": \"UMC\", \"income_classif\": \"Upper middle income\"}, {\"economy\": \"IRN\", \"Country\": \"Iran, Islamic Rep.\", \"Growth_prom\": 1.5898383307680253, \"GDPcountry_2003\": 2253.93583450566, \"USA_base\": 39496.4858751381, \"GDPcountry_USA\": 0.05706674364983056, \"Region\": \"MEA\", \"income_classification\": \"LMC\", \"income_classif\": \"Lower middle income\"}, {\"economy\": \"IDN\", \"Country\": \"Indonesia\", \"Growth_prom\": 3.157459112121531, \"GDPcountry_2003\": 1065.6485199064, \"USA_base\": 39496.4858751381, \"GDPcountry_USA\": 0.02698084389774015, \"Region\": \"EAS\", \"income_classification\": \"LMC\", \"income_classif\": \"Lower middle income\"}, {\"economy\": \"IND\", \"Country\": \"India\", \"Growth_prom\": 3.0825484850365905, \"GDPcountry_2003\": 546.726613494985, \"USA_base\": 39496.4858751381, \"GDPcountry_USA\": 0.013842411581206865, \"Region\": \"SAS\", \"income_classification\": \"LMC\", \"income_classif\": \"Lower middle income\"}, {\"economy\": \"ISL\", \"Country\": \"Iceland\", \"Growth_prom\": 2.0931394720357828, \"GDPcountry_2003\": 39476.6978486684, \"USA_base\": 39496.4858751381, \"GDPcountry_USA\": 0.9994989927323595, \"Region\": \"ECS\", \"income_classification\": \"HIC\", \"income_classif\": \"High income\"}, {\"economy\": \"HUN\", \"Country\": \"Hungary\", \"Growth_prom\": 2.267729594208387, \"GDPcountry_2003\": 8421.10331316153, \"USA_base\": 39496.4858751381, \"GDPcountry_USA\": 0.21321145733783803, \"Region\": \"ECS\", \"income_classification\": \"HIC\", \"income_classif\": \"High income\"}, {\"economy\": \"HKG\", \"Country\": \"Hong Kong SAR, China\", \"Growth_prom\": 4.162219553281929, \"GDPcountry_2003\": 23977.0194516698, \"USA_base\": 39496.4858751381, \"GDPcountry_USA\": 0.6070671585180858, \"Region\": \"EAS\", \"income_classification\": \"HIC\", \"income_classif\": \"High income\"}, {\"economy\": \"HND\", \"Country\": \"Honduras\", \"Growth_prom\": 1.0678530128299237, \"GDPcountry_2003\": 1145.49794612385, \"USA_base\": 39496.4858751381, \"GDPcountry_USA\": 0.029002528218463806, \"Region\": \"LCN\", \"income_classification\": \"LMC\", \"income_classif\": \"Lower middle income\"}, {\"economy\": \"HTI\", \"Country\": \"Haiti\", \"Growth_prom\": -0.38472599426716597, \"GDPcountry_2003\": 542.333596073937, \"USA_base\": 39496.4858751381, \"GDPcountry_USA\": 0.013731186055094595, \"Region\": \"LCN\", \"income_classification\": \"LMC\", \"income_classif\": \"Lower middle income\"}, {\"economy\": \"GUY\", \"Country\": \"Guyana\", \"Growth_prom\": 2.279438977427565, \"GDPcountry_2003\": 997.211372858551, \"USA_base\": 39496.4858751381, \"GDPcountry_USA\": 0.025248103742977975, \"Region\": \"LCN\", \"income_classification\": \"UMC\", \"income_classif\": \"Upper middle income\"}, {\"economy\": \"GNB\", \"Country\": \"Guinea-Bissau\", \"Growth_prom\": 0.5977251758578561, \"GDPcountry_2003\": 372.056194872066, \"USA_base\": 39496.4858751381, \"GDPcountry_USA\": 0.009419982224450622, \"Region\": \"SSF\", \"income_classification\": \"LIC\", \"income_classif\": \"Low income\"}, {\"economy\": \"GIN\", \"Country\": \"Guinea\", \"Growth_prom\": 1.8804783065445763, \"GDPcountry_2003\": 393.739689850048, \"USA_base\": 39496.4858751381, \"GDPcountry_USA\": 0.00996898030611619, \"Region\": \"SSF\", \"income_classification\": \"LIC\", \"income_classif\": \"Low income\"}, {\"economy\": \"GTM\", \"Country\": \"Guatemala\", \"Growth_prom\": 1.3689502221798824, \"GDPcountry_2003\": 1737.87928692973, \"USA_base\": 39496.4858751381, \"GDPcountry_USA\": 0.04400085851748332, \"Region\": \"LCN\", \"income_classification\": \"UMC\", \"income_classif\": \"Upper middle income\"}, {\"economy\": \"GUM\", \"Country\": \"Guam\", \"Growth_prom\": 0.18369870492632964, \"GDPcountry_2003\": 22628.278691123, \"USA_base\": 39496.4858751381, \"GDPcountry_USA\": 0.5729187847916072, \"Region\": \"EAS\", \"income_classification\": \"HIC\", \"income_classif\": \"High income\"}, {\"economy\": \"GRD\", \"Country\": \"Grenada\", \"Growth_prom\": 2.4190563105607565, \"GDPcountry_2003\": 5682.70537780071, \"USA_base\": 39496.4858751381, \"GDPcountry_USA\": 0.14387875913228546, \"Region\": \"LCN\", \"income_classification\": \"UMC\", \"income_classif\": \"Upper middle income\"}, {\"economy\": \"GRL\", \"Country\": \"Greenland\", \"Growth_prom\": 2.4520046064203753, \"GDPcountry_2003\": 27459.7627839484, \"USA_base\": 39496.4858751381, \"GDPcountry_USA\": 0.695245720613173, \"Region\": \"ECS\", \"income_classification\": \"HIC\", \"income_classif\": \"High income\"}, {\"economy\": \"GRC\", \"Country\": \"Greece\", \"Growth_prom\": 2.1902683510506997, \"GDPcountry_2003\": 18477.5783602862, \"USA_base\": 39496.4858751381, \"GDPcountry_USA\": 0.4678284143733734, \"Region\": \"ECS\", \"income_classification\": \"HIC\", \"income_classif\": \"High income\"}, {\"economy\": \"GIB\", \"Country\": \"Gibraltar\", \"Growth_prom\": null, \"GDPcountry_2003\": null, \"USA_base\": 39496.4858751381, \"GDPcountry_USA\": null, \"Region\": \"ECS\", \"income_classification\": \"HIC\", \"income_classif\": \"High income\"}, {\"economy\": \"GHA\", \"Country\": \"Ghana\", \"Growth_prom\": 1.0265531215071924, \"GDPcountry_2003\": 367.821362113662, \"USA_base\": 39496.4858751381, \"GDPcountry_USA\": 0.009312761729650357, \"Region\": \"SSF\", \"income_classification\": \"LMC\", \"income_classif\": \"Lower middle income\"}, {\"economy\": \"DEU\", \"Country\": \"Germany\", \"Growth_prom\": 1.7085609264797155, \"GDPcountry_2003\": 30243.5765296979, \"USA_base\": 39496.4858751381, \"GDPcountry_USA\": 0.7657282884687054, \"Region\": \"ECS\", \"income_classification\": \"HIC\", \"income_classif\": \"High income\"}, {\"economy\": \"GEO\", \"Country\": \"Georgia\", \"Growth_prom\": 2.3067047717393128, \"GDPcountry_2003\": 1010.0079801313, \"USA_base\": 39496.4858751381, \"GDPcountry_USA\": 0.02557209730820814, \"Region\": \"ECS\", \"income_classification\": \"UMC\", \"income_classif\": \"Upper middle income\"}, {\"economy\": \"GMB\", \"Country\": \"Gambia, The\", \"Growth_prom\": 0.29951080266535607, \"GDPcountry_2003\": 335.906216950504, \"USA_base\": 39496.4858751381, \"GDPcountry_USA\": 0.008504711482748577, \"Region\": \"SSF\", \"income_classification\": \"LIC\", \"income_classif\": \"Low income\"}, {\"economy\": \"GAB\", \"Country\": \"Gabon\", \"Growth_prom\": 1.5743083118608727, \"GDPcountry_2003\": 4933.46216999793, \"USA_base\": 39496.4858751381, \"GDPcountry_USA\": 0.12490888899823369, \"Region\": \"SSF\", \"income_classification\": \"UMC\", \"income_classif\": \"Upper middle income\"}, {\"economy\": \"PYF\", \"Country\": \"French Polynesia\", \"Growth_prom\": 1.4415818645097083, \"GDPcountry_2003\": null, \"USA_base\": 39496.4858751381, \"GDPcountry_USA\": null, \"Region\": \"EAS\", \"income_classification\": \"HIC\", \"income_classif\": \"High income\"}, {\"economy\": \"FRA\", \"Country\": \"France\", \"Growth_prom\": 1.9840622256874043, \"GDPcountry_2003\": 29568.3887998673, \"USA_base\": 39496.4858751381, \"GDPcountry_USA\": 0.7486334073705465, \"Region\": \"ECS\", \"income_classification\": \"HIC\", \"income_classif\": \"High income\"}, {\"economy\": \"FIN\", \"Country\": \"Finland\", \"Growth_prom\": 2.3497296742689664, \"GDPcountry_2003\": 32855.1326287803, \"USA_base\": 39496.4858751381, \"GDPcountry_USA\": 0.8318495152365355, \"Region\": \"ECS\", \"income_classification\": \"HIC\", \"income_classif\": \"High income\"}, {\"economy\": \"FJI\", \"Country\": \"Fiji\", \"Growth_prom\": 1.4675157187502499, \"GDPcountry_2003\": 2818.91392042135, \"USA_base\": 39496.4858751381, \"GDPcountry_USA\": 0.07137125893510883, \"Region\": \"EAS\", \"income_classification\": \"UMC\", \"income_classif\": \"Upper middle income\"}, {\"economy\": \"FRO\", \"Country\": \"Faroe Islands\", \"Growth_prom\": null, \"GDPcountry_2003\": 31493.3191469308, \"USA_base\": 39496.4858751381, \"GDPcountry_USA\": 0.7973701570942779, \"Region\": \"ECS\", \"income_classification\": \"HIC\", \"income_classif\": \"High income\"}, {\"economy\": \"ETH\", \"Country\": \"Ethiopia\", \"Growth_prom\": 2.806065261805029, \"GDPcountry_2003\": 119.49039595567, \"USA_base\": 39496.4858751381, \"GDPcountry_USA\": 0.0030253424654897144, \"Region\": \"SSF\", \"income_classification\": \"LIC\", \"income_classif\": \"Low income\"}, {\"economy\": \"SWZ\", \"Country\": \"Eswatini\", \"Growth_prom\": 2.8078024303946587, \"GDPcountry_2003\": 2148.632475194, \"USA_base\": 39496.4858751381, \"GDPcountry_USA\": 0.0544005986250666, \"Region\": \"SSF\", \"income_classification\": \"LMC\", \"income_classif\": \"Lower middle income\"}, {\"economy\": \"EST\", \"Country\": \"Estonia\", \"Growth_prom\": 4.318370071478728, \"GDPcountry_2003\": 7203.52303786646, \"USA_base\": 39496.4858751381, \"GDPcountry_USA\": 0.1823838976621682, \"Region\": \"ECS\", \"income_classification\": \"HIC\", \"income_classif\": \"High income\"}, {\"economy\": \"ERI\", \"Country\": \"Eritrea\", \"Growth_prom\": 1.9556543598133664, \"GDPcountry_2003\": 334.585571541238, \"USA_base\": 39496.4858751381, \"GDPcountry_USA\": 0.008471274447022385, \"Region\": \"SSF\", \"income_classification\": \"LIC\", \"income_classif\": \"Low income\"}, {\"economy\": \"GNQ\", \"Country\": \"Equatorial Guinea\", \"Growth_prom\": 8.90729236140893, \"GDPcountry_2003\": 3618.54447564811, \"USA_base\": 39496.4858751381, \"GDPcountry_USA\": 0.09161687161454228, \"Region\": \"SSF\", \"income_classification\": \"UMC\", \"income_classif\": \"Upper middle income\"}, {\"economy\": \"SLV\", \"Country\": \"El Salvador\", \"Growth_prom\": 0.6596619356450553, \"GDPcountry_2003\": 2209.4972451963, \"USA_base\": 39496.4858751381, \"GDPcountry_USA\": 0.05594161597518514, \"Region\": \"LCN\", \"income_classification\": \"LMC\", \"income_classif\": \"Lower middle income\"}, {\"economy\": \"EGY\", \"Country\": \"Egypt, Arab Rep.\", \"Growth_prom\": 2.8462167415612383, \"GDPcountry_2003\": 1102.46819936156, \"USA_base\": 39496.4858751381, \"GDPcountry_USA\": 0.027913070617138925, \"Region\": \"MEA\", \"income_classification\": \"LMC\", \"income_classif\": \"Lower middle income\"}, {\"economy\": \"ECU\", \"Country\": \"Ecuador\", \"Growth_prom\": 1.2699856994553866, \"GDPcountry_2003\": 2425.85184175715, \"USA_base\": 39496.4858751381, \"GDPcountry_USA\": 0.06141943486886649, \"Region\": \"LCN\", \"income_classification\": \"UMC\", \"income_classif\": \"Upper middle income\"}, {\"economy\": \"DOM\", \"Country\": \"Dominican Republic\", \"Growth_prom\": 3.028624807409437, \"GDPcountry_2003\": 2418.35042158878, \"USA_base\": 39496.4858751381, \"GDPcountry_USA\": 0.06122950860068951, \"Region\": \"LCN\", \"income_classification\": \"UMC\", \"income_classif\": \"Upper middle income\"}, {\"economy\": \"DMA\", \"Country\": \"Dominica\", \"Growth_prom\": 2.117105985432478, \"GDPcountry_2003\": 4897.30836653892, \"USA_base\": 39496.4858751381, \"GDPcountry_USA\": 0.12399352139886537, \"Region\": \"LCN\", \"income_classification\": \"UMC\", \"income_classif\": \"Upper middle income\"}, {\"economy\": \"DJI\", \"Country\": \"Djibouti\", \"Growth_prom\": 4.525798987891956, \"GDPcountry_2003\": 818.868785719334, \"USA_base\": 39496.4858751381, \"GDPcountry_USA\": 0.020732699823170553, \"Region\": \"MEA\", \"income_classification\": \"LMC\", \"income_classif\": \"Lower middle income\"}, {\"economy\": \"DNK\", \"Country\": \"Denmark\", \"Growth_prom\": 1.9318361604542942, \"GDPcountry_2003\": 40458.7773986609, \"USA_base\": 39496.4858751381, \"GDPcountry_USA\": 1.0243639782679637, \"Region\": \"ECS\", \"income_classification\": \"HIC\", \"income_classif\": \"High income\"}, {\"economy\": \"CZE\", \"Country\": \"Czech Republic\", \"Growth_prom\": 1.7231238084590517, \"GDPcountry_2003\": 9818.56849307488, \"USA_base\": 39496.4858751381, \"GDPcountry_USA\": 0.24859347041948823, \"Region\": \"ECS\", \"income_classification\": \"HIC\", \"income_classif\": \"High income\"}, {\"economy\": \"CYP\", \"Country\": \"Cyprus\", \"Growth_prom\": 3.3957677591182414, \"GDPcountry_2003\": 20252.2389846021, \"USA_base\": 39496.4858751381, \"GDPcountry_USA\": 0.5127605288385998, \"Region\": \"ECS\", \"income_classification\": \"HIC\", \"income_classif\": \"High income\"}, {\"economy\": \"CUW\", \"Country\": \"Curacao\", \"Growth_prom\": -1.801715354423569, \"GDPcountry_2003\": null, \"USA_base\": 39496.4858751381, \"GDPcountry_USA\": null, \"Region\": \"LCN\", \"income_classification\": \"HIC\", \"income_classif\": \"High income\"}, {\"economy\": \"CUB\", \"Country\": \"Cuba\", \"Growth_prom\": 2.1829157247172812, \"GDPcountry_2003\": 3197.13318464341, \"USA_base\": 39496.4858751381, \"GDPcountry_USA\": 0.08094728211392378, \"Region\": \"LCN\", \"income_classification\": \"UMC\", \"income_classif\": \"Upper middle income\"}, {\"economy\": \"HRV\", \"Country\": \"Croatia\", \"Growth_prom\": 2.4258804381322814, \"GDPcountry_2003\": 8129.79458409902, \"USA_base\": 39496.4858751381, \"GDPcountry_USA\": 0.20583589663647747, \"Region\": \"ECS\", \"income_classification\": \"HIC\", \"income_classif\": \"High income\"}, {\"economy\": \"CIV\", \"Country\": \"Cote d'Ivoire\", \"Growth_prom\": 0.783774370466043, \"GDPcountry_2003\": 1207.51264780798, \"USA_base\": 39496.4858751381, \"GDPcountry_USA\": 0.03057266035326131, \"Region\": \"SSF\", \"income_classification\": \"LMC\", \"income_classif\": \"Lower middle income\"}, {\"economy\": \"CRI\", \"Country\": \"Costa Rica\", \"Growth_prom\": 2.0838253054402496, \"GDPcountry_2003\": 4147.82436896025, \"USA_base\": 39496.4858751381, \"GDPcountry_USA\": 0.10501755477874514, \"Region\": \"LCN\", \"income_classification\": \"UMC\", \"income_classif\": \"Upper middle income\"}, {\"economy\": \"COG\", \"Country\": \"Congo, Rep.\", \"Growth_prom\": 0.6341645833837349, \"GDPcountry_2003\": 1028.41522164071, \"USA_base\": 39496.4858751381, \"GDPcountry_USA\": 0.02603814488437989, \"Region\": \"SSF\", \"income_classification\": \"LMC\", \"income_classif\": \"Lower middle income\"}, {\"economy\": \"COD\", \"Country\": \"Congo, Dem. Rep.\", \"Growth_prom\": -1.3394756452104672, \"GDPcountry_2003\": 173.796125167459, \"USA_base\": 39496.4858751381, \"GDPcountry_USA\": 0.004400293375893946, \"Region\": \"SSF\", \"income_classification\": \"LIC\", \"income_classif\": \"Low income\"}, {\"economy\": \"COM\", \"Country\": \"Comoros\", \"Growth_prom\": -0.023057771359360525, \"GDPcountry_2003\": 937.710896345202, \"USA_base\": 39496.4858751381, \"GDPcountry_USA\": 0.023741628541577766, \"Region\": \"SSF\", \"income_classification\": \"LMC\", \"income_classif\": \"Lower middle income\"}, {\"economy\": \"COL\", \"Country\": \"Colombia\", \"Growth_prom\": 1.9266891190071609, \"GDPcountry_2003\": 2281.40176243006, \"USA_base\": 39496.4858751381, \"GDPcountry_USA\": 0.05776214546383572, \"Region\": \"LCN\", \"income_classification\": \"UMC\", \"income_classif\": \"Upper middle income\"}, {\"economy\": \"CHN\", \"Country\": \"China\", \"Growth_prom\": 6.716943204463674, \"GDPcountry_2003\": 1288.64325183475, \"USA_base\": 39496.4858751381, \"GDPcountry_USA\": 0.032626782441065566, \"Region\": \"EAS\", \"income_classification\": \"UMC\", \"income_classif\": \"Upper middle income\"}, {\"economy\": \"CHL\", \"Country\": \"Chile\", \"Growth_prom\": 2.394840067642567, \"GDPcountry_2003\": 4772.56372299225, \"USA_base\": 39496.4858751381, \"GDPcountry_USA\": 0.12083514817191474, \"Region\": \"LCN\", \"income_classification\": \"HIC\", \"income_classif\": \"High income\"}, {\"economy\": \"CHI\", \"Country\": \"Channel Islands\", \"Growth_prom\": 1.1207603255333825, \"GDPcountry_2003\": 48858.8318648576, \"USA_base\": 39496.4858751381, \"GDPcountry_USA\": 1.237042505991978, \"Region\": \"ECS\", \"income_classification\": \"HIC\", \"income_classif\": \"High income\"}, {\"economy\": \"TCD\", \"Country\": \"Chad\", \"Growth_prom\": 0.49001426193310266, \"GDPcountry_2003\": 292.600880182047, \"USA_base\": 39496.4858751381, \"GDPcountry_USA\": 0.007408276298480285, \"Region\": \"SSF\", \"income_classification\": \"LIC\", \"income_classif\": \"Low income\"}, {\"economy\": \"CAF\", \"Country\": \"Central African Republic\", \"Growth_prom\": -0.5330990502086806, \"GDPcountry_2003\": 293.661549027692, \"USA_base\": 39496.4858751381, \"GDPcountry_USA\": 0.007435131063458571, \"Region\": \"SSF\", \"income_classification\": \"LIC\", \"income_classif\": \"Low income\"}, {\"economy\": \"CYM\", \"Country\": \"Cayman Islands\", \"Growth_prom\": -1.138581281206257, \"GDPcountry_2003\": null, \"USA_base\": 39496.4858751381, \"GDPcountry_USA\": null, \"Region\": \"LCN\", \"income_classification\": \"HIC\", \"income_classif\": \"High income\"}, {\"economy\": \"CAN\", \"Country\": \"Canada\", \"Growth_prom\": 1.9761331168142335, \"GDPcountry_2003\": 28300.4630963791, \"USA_base\": 39496.4858751381, \"GDPcountry_USA\": 0.716531166490268, \"Region\": \"NAC\", \"income_classification\": \"HIC\", \"income_classif\": \"High income\"}, {\"economy\": \"CMR\", \"Country\": \"Cameroon\", \"Growth_prom\": 0.8380338786964947, \"GDPcountry_2003\": 950.564863700067, \"USA_base\": 39496.4858751381, \"GDPcountry_USA\": 0.024067074389988202, \"Region\": \"SSF\", \"income_classification\": \"LMC\", \"income_classif\": \"Lower middle income\"}, {\"economy\": \"KHM\", \"Country\": \"Cambodia\", \"Growth_prom\": 3.7253813122950756, \"GDPcountry_2003\": 362.335482179797, \"USA_base\": 39496.4858751381, \"GDPcountry_USA\": 0.009173866336495438, \"Region\": \"EAS\", \"income_classification\": \"LMC\", \"income_classif\": \"Lower middle income\"}, {\"economy\": \"CPV\", \"Country\": \"Cabo Verde\", \"Growth_prom\": 4.165332206075697, \"GDPcountry_2003\": 1809.11002984768, \"USA_base\": 39496.4858751381, \"GDPcountry_USA\": 0.045804328910852864, \"Region\": \"SSF\", \"income_classification\": \"LMC\", \"income_classif\": \"Lower middle income\"}, {\"economy\": \"BDI\", \"Country\": \"Burundi\", \"Growth_prom\": 0.049295626629043264, \"GDPcountry_2003\": 113.567251308875, \"USA_base\": 39496.4858751381, \"GDPcountry_USA\": 0.0028753760946707996, \"Region\": \"SSF\", \"income_classification\": \"LIC\", \"income_classif\": \"Low income\"}, {\"economy\": \"BFA\", \"Country\": \"Burkina Faso\", \"Growth_prom\": 1.904103710427928, \"GDPcountry_2003\": 374.627357970473, \"USA_base\": 39496.4858751381, \"GDPcountry_USA\": 0.009485080752621845, \"Region\": \"SSF\", \"income_classification\": \"LIC\", \"income_classif\": \"Low income\"}, {\"economy\": \"BGR\", \"Country\": \"Bulgaria\", \"Growth_prom\": 2.249233250280822, \"GDPcountry_2003\": 2719.49765607059, \"USA_base\": 39496.4858751381, \"GDPcountry_USA\": 0.06885416754968662, \"Region\": \"ECS\", \"income_classification\": \"UMC\", \"income_classif\": \"Upper middle income\"}, {\"economy\": \"BRN\", \"Country\": \"Brunei Darussalam\", \"Growth_prom\": -0.5834911132497751, \"GDPcountry_2003\": 18560.5035016224, \"USA_base\": 39496.4858751381, \"GDPcountry_USA\": 0.4699279718276329, \"Region\": \"EAS\", \"income_classification\": \"HIC\", \"income_classif\": \"High income\"}, {\"economy\": \"VGB\", \"Country\": \"British Virgin Islands\", \"Growth_prom\": null, \"GDPcountry_2003\": null, \"USA_base\": 39496.4858751381, \"GDPcountry_USA\": null, \"Region\": \"LCN\", \"income_classification\": \"HIC\", \"income_classif\": \"High income\"}, {\"economy\": \"BRA\", \"Country\": \"Brazil\", \"Growth_prom\": 2.002728804717326, \"GDPcountry_2003\": 3070.43641941942, \"USA_base\": 39496.4858751381, \"GDPcountry_USA\": 0.07773948368789363, \"Region\": \"LCN\", \"income_classification\": \"UMC\", \"income_classif\": \"Upper middle income\"}, {\"economy\": \"BWA\", \"Country\": \"Botswana\", \"Growth_prom\": 5.055880360504671, \"GDPcountry_2003\": 4330.97236855283, \"USA_base\": 39496.4858751381, \"GDPcountry_USA\": 0.10965462553414282, \"Region\": \"SSF\", \"income_classification\": \"UMC\", \"income_classif\": \"Upper middle income\"}, {\"economy\": \"BIH\", \"Country\": \"Bosnia and Herzegovina\", \"Growth_prom\": 9.829015051035787, \"GDPcountry_2003\": 2258.94645158877, \"USA_base\": 39496.4858751381, \"GDPcountry_USA\": 0.05719360600155852, \"Region\": \"ECS\", \"income_classification\": \"UMC\", \"income_classif\": \"Upper middle income\"}, {\"economy\": \"BOL\", \"Country\": \"Bolivia\", \"Growth_prom\": 1.4501134775639675, \"GDPcountry_2003\": 907.537415801528, \"USA_base\": 39496.4858751381, \"GDPcountry_USA\": 0.022977674992923778, \"Region\": \"LCN\", \"income_classification\": \"LMC\", \"income_classif\": \"Lower middle income\"}, {\"economy\": \"BTN\", \"Country\": \"Bhutan\", \"Growth_prom\": 5.174386208722396, \"GDPcountry_2003\": 962.095371307745, \"USA_base\": 39496.4858751381, \"GDPcountry_USA\": 0.024359011947271903, \"Region\": \"SAS\", \"income_classification\": \"LMC\", \"income_classif\": \"Lower middle income\"}, {\"economy\": \"BMU\", \"Country\": \"Bermuda\", \"Growth_prom\": 1.708449250073122, \"GDPcountry_2003\": 66111.7252270035, \"USA_base\": 39496.4858751381, \"GDPcountry_USA\": 1.6738634782852648, \"Region\": \"NAC\", \"income_classification\": \"HIC\", \"income_classif\": \"High income\"}, {\"economy\": \"BEN\", \"Country\": \"Benin\", \"Growth_prom\": 1.0161147866290183, \"GDPcountry_2003\": 711.284954771847, \"USA_base\": 39496.4858751381, \"GDPcountry_USA\": 0.018008816202546775, \"Region\": \"SSF\", \"income_classification\": \"LMC\", \"income_classif\": \"Lower middle income\"}, {\"economy\": \"BLZ\", \"Country\": \"Belize\", \"Growth_prom\": 2.1218751879720115, \"GDPcountry_2003\": 3650.60647000312, \"USA_base\": 39496.4858751381, \"GDPcountry_USA\": 0.092428639893279, \"Region\": \"LCN\", \"income_classification\": \"LMC\", \"income_classif\": \"Lower middle income\"}, {\"economy\": \"BEL\", \"Country\": \"Belgium\", \"Growth_prom\": 2.106097968046041, \"GDPcountry_2003\": 30587.6684093796, \"USA_base\": 39496.4858751381, \"GDPcountry_USA\": 0.7744402503574034, \"Region\": \"ECS\", \"income_classification\": \"HIC\", \"income_classif\": \"High income\"}, {\"economy\": \"BLR\", \"Country\": \"Belarus\", \"Growth_prom\": 2.8081074535544874, \"GDPcountry_2003\": 1819.76605926177, \"USA_base\": 39496.4858751381, \"GDPcountry_USA\": 0.046074125809943516, \"Region\": \"ECS\", \"income_classification\": \"UMC\", \"income_classif\": \"Upper middle income\"}, {\"economy\": \"BRB\", \"Country\": \"Barbados\", \"Growth_prom\": 0.4306350904583401, \"GDPcountry_2003\": 11699.3704685216, \"USA_base\": 39496.4858751381, \"GDPcountry_USA\": 0.2962129467798049, \"Region\": \"LCN\", \"income_classification\": \"HIC\", \"income_classif\": \"High income\"}, {\"economy\": \"BGD\", \"Country\": \"Bangladesh\", \"Growth_prom\": 2.208934424628354, \"GDPcountry_2003\": 446.310675745944, \"USA_base\": 39496.4858751381, \"GDPcountry_USA\": 0.011300009756738477, \"Region\": \"SAS\", \"income_classification\": \"LMC\", \"income_classif\": \"Lower middle income\"}, {\"economy\": \"BHR\", \"Country\": \"Bahrain\", \"Growth_prom\": -0.15153937336087253, \"GDPcountry_2003\": 14222.0367965749, \"USA_base\": 39496.4858751381, \"GDPcountry_USA\": 0.36008359937478035, \"Region\": \"MEA\", \"income_classification\": \"HIC\", \"income_classif\": \"High income\"}, {\"economy\": \"BHS\", \"Country\": \"Bahamas, The\", \"Growth_prom\": 0.7282163688790574, \"GDPcountry_2003\": 28327.8136706662, \"USA_base\": 39496.4858751381, \"GDPcountry_USA\": 0.7172236476991929, \"Region\": \"LCN\", \"income_classification\": \"HIC\", \"income_classif\": \"High income\"}, {\"economy\": \"AZE\", \"Country\": \"Azerbaijan\", \"Growth_prom\": 2.7601755552250093, \"GDPcountry_2003\": 883.733971498452, \"USA_base\": 39496.4858751381, \"GDPcountry_USA\": 0.0223750025329402, \"Region\": \"ECS\", \"income_classification\": \"UMC\", \"income_classif\": \"Upper middle income\"}, {\"economy\": \"AUT\", \"Country\": \"Austria\", \"Growth_prom\": 2.1820361616883983, \"GDPcountry_2003\": 32222.8972411655, \"USA_base\": 39496.4858751381, \"GDPcountry_USA\": 0.8158421319565771, \"Region\": \"ECS\", \"income_classification\": \"HIC\", \"income_classif\": \"High income\"}, {\"economy\": \"AUS\", \"Country\": \"Australia\", \"Growth_prom\": 1.810022801465879, \"GDPcountry_2003\": 23492.4051742272, \"USA_base\": 39496.4858751381, \"GDPcountry_USA\": 0.5947973510477546, \"Region\": \"EAS\", \"income_classification\": \"HIC\", \"income_classif\": \"High income\"}, {\"economy\": \"ABW\", \"Country\": \"Aruba\", \"Growth_prom\": 1.894888375954119, \"GDPcountry_2003\": 20833.976357295, \"USA_base\": 39496.4858751381, \"GDPcountry_USA\": 0.5274893676150917, \"Region\": \"LCN\", \"income_classification\": \"HIC\", \"income_classif\": \"High income\"}, {\"economy\": \"ARM\", \"Country\": \"Armenia\", \"Growth_prom\": 3.722001640950393, \"GDPcountry_2003\": 930.125472654125, \"USA_base\": 39496.4858751381, \"GDPcountry_USA\": 0.02354957541272329, \"Region\": \"ECS\", \"income_classification\": \"UMC\", \"income_classif\": \"Upper middle income\"}, {\"economy\": \"ARG\", \"Country\": \"Argentina\", \"Growth_prom\": 0.8683774187198386, \"GDPcountry_2003\": 3349.80630031036, \"USA_base\": 39496.4858751381, \"GDPcountry_USA\": 0.08481276817639531, \"Region\": \"LCN\", \"income_classification\": \"UMC\", \"income_classif\": \"Upper middle income\"}, {\"economy\": \"ATG\", \"Country\": \"Antigua and Barbuda\", \"Growth_prom\": 2.2382232282938763, \"GDPcountry_2003\": 10797.9510571837, \"USA_base\": 39496.4858751381, \"GDPcountry_USA\": 0.2733901717565384, \"Region\": \"LCN\", \"income_classification\": \"HIC\", \"income_classif\": \"High income\"}, {\"economy\": \"AGO\", \"Country\": \"Angola\", \"Growth_prom\": -0.03761701489577969, \"GDPcountry_2003\": 982.96100777685, \"USA_base\": 39496.4858751381, \"GDPcountry_USA\": 0.02488730290801885, \"Region\": \"SSF\", \"income_classification\": \"LMC\", \"income_classif\": \"Lower middle income\"}, {\"economy\": \"AND\", \"Country\": \"Andorra\", \"Growth_prom\": -0.0007411043123979511, \"GDPcountry_2003\": 32272.8458909877, \"USA_base\": 39496.4858751381, \"GDPcountry_USA\": 0.8171067672454001, \"Region\": \"ECS\", \"income_classification\": \"HIC\", \"income_classif\": \"High income\"}, {\"economy\": \"ASM\", \"Country\": \"American Samoa\", \"Growth_prom\": -0.30969482201849075, \"GDPcountry_2003\": 8807.46281200101, \"USA_base\": 39496.4858751381, \"GDPcountry_USA\": 0.22299358074144648, \"Region\": \"EAS\", \"income_classification\": \"UMC\", \"income_classif\": \"Upper middle income\"}, {\"economy\": \"DZA\", \"Country\": \"Algeria\", \"Growth_prom\": 1.1954064324881695, \"GDPcountry_2003\": 2103.38129106939, \"USA_base\": 39496.4858751381, \"GDPcountry_USA\": 0.05325489709942544, \"Region\": \"MEA\", \"income_classification\": \"LMC\", \"income_classif\": \"Lower middle income\"}, {\"economy\": \"ALB\", \"Country\": \"Albania\", \"Growth_prom\": 2.633885573886699, \"GDPcountry_2003\": 1846.12012081207, \"USA_base\": 39496.4858751381, \"GDPcountry_USA\": 0.046741376603687906, \"Region\": \"ECS\", \"income_classification\": \"UMC\", \"income_classif\": \"Upper middle income\"}, {\"economy\": \"AFG\", \"Country\": \"Afghanistan\", \"Growth_prom\": 3.0066578689989316, \"GDPcountry_2003\": 190.683814295088, \"USA_base\": 39496.4858751381, \"GDPcountry_USA\": 0.004827867848747475, \"Region\": \"SAS\", \"income_classification\": \"LIC\", \"income_classif\": \"Low income\"}]}}, {\"mode\": \"vega-lite\"});\n",
       "</script>"
      ],
      "text/plain": [
       "alt.Chart(...)"
      ]
     },
     "execution_count": 24,
     "metadata": {},
     "output_type": "execute_result"
    }
   ],
   "source": [
    "chart=chart.configure_legend(strokeColor='grey',fillColor='#d1dce6',padding=20,cornerRadius=20,orient='top-right')\n",
    "chart=chart.configure_axis(titleColor='grey',titleFontSize=20)\n",
    "chart.configure_title(fontSize=33,font='Courier',anchor='middle',color='grey',orient='top',subtitleColor='grey',\n",
    "                      subtitleFont='Courier',subtitleFontSize=18,)"
   ]
  },
  {
   "cell_type": "markdown",
   "metadata": {
    "id": "Xn5KciYvZ_6N"
   },
   "source": [
    "# Conclusiones\n",
    "El gráfico muestra la regularidad empírica enunciada por Jones y Romer para un año aleatorio entre 1960 al 2020.\n",
    "\n",
    "**Los países con ingresos más altos (puntos rosados) tienen tasas de crecimiento bajas y cercanas al 2%. Esta convergencia es mayor cuando se está más cerca a la frontera tecnológica (tomando como referencia USA, punto negro). Los países cuyos ingresos son bajos (puntos naranjas) o mediano-bajos (puntos verdes) tienen tasas de crecimiento más dipersas (entre -2% al 8%).**\n",
    "\n",
    "Las razones se explican con ayuda de teorías del crecimiento:\n",
    "\n",
    "* Los países con niveles de PBI per cápita menores tienen una mayor senda de crecimiento por recorrer. Por tanto, los 'saltos' de las tasas PBI per cápita son grandes.\n",
    "* Los países de mayores ingresos estarían cerca a su estado estacionario. \n",
    "* Las tasas de crecimiento son menores en los países de grandes ingresos (en el gráfico del 1 o 2%) debido a los retornos decrecientes de su capital: al tener altos niveles de capital, el capital adicional retorna menos producto por capital invertido. Por ello, se vería una convergencia entre sus tasas.\n",
    "* Que las tasas de crecimiento converjan no implica que los países con grandes ingresos empobrezcan: aunque el *crecimiento* de su PBI per cápita será menor, el *nivel* ya es alto.\n",
    "\n",
    "*Estado estacionario*: Es cuando en una economía se usa de la forma más eficiente sus recursos. En este punto, no se puede obtener un nivel mayor de producción si que la depreciación supere al ahorro/inversión."
   ]
  },
  {
   "cell_type": "markdown",
   "metadata": {},
   "source": [
    "### Bibliografía:\n",
    "Jones, Charles I., and Paul M. Romer. 2010. \"The New Kaldor Facts: Ideas, Institutions, Population, and Human Capital.\" American Economic Journal: Macroeconomics, 2 (1): 224-45. DOI: 10.1257/mac.2.1.224"
   ]
  },
  {
   "cell_type": "code",
   "execution_count": null,
   "metadata": {},
   "outputs": [],
   "source": []
  }
 ],
 "metadata": {
  "colab": {
   "name": "Trabajo_final.ipynb",
   "provenance": []
  },
  "kernelspec": {
   "display_name": "Python 3 (ipykernel)",
   "language": "python",
   "name": "python3"
  },
  "language_info": {
   "codemirror_mode": {
    "name": "ipython",
    "version": 3
   },
   "file_extension": ".py",
   "mimetype": "text/x-python",
   "name": "python",
   "nbconvert_exporter": "python",
   "pygments_lexer": "ipython3",
   "version": "3.8.10"
  }
 },
 "nbformat": 4,
 "nbformat_minor": 1
}
